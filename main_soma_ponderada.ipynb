{
 "cells": [
  {
   "cell_type": "code",
   "execution_count": 1,
   "metadata": {
    "ExecuteTime": {
     "end_time": "2021-12-12T21:24:33.935486Z",
     "start_time": "2021-12-12T21:24:33.422303Z"
    },
    "id": "ekGmyEEscI37"
   },
   "outputs": [],
   "source": [
    "import pandas as pd\n",
    "import numpy as np\n",
    "np.random.seed(42)\n",
    "import json\n",
    "import random\n",
    "\n",
    "from tqdm import tqdm"
   ]
  },
  {
   "cell_type": "markdown",
   "metadata": {
    "id": "thXHPbI-cI3-",
    "tags": []
   },
   "source": [
    "Arquivo csv adaptado para diminuir trabalho com tratamento de dados"
   ]
  },
  {
   "cell_type": "code",
   "execution_count": 2,
   "metadata": {
    "ExecuteTime": {
     "end_time": "2021-12-12T21:24:34.074485Z",
     "start_time": "2021-12-12T21:24:33.937485Z"
    },
    "colab": {
     "base_uri": "https://localhost:8080/",
     "height": 112
    },
    "id": "zyIZ00JHcI4A",
    "outputId": "9ed1cc69-f9ca-483b-cbc8-799960ee7c74",
    "scrolled": true
   },
   "outputs": [
    {
     "data": {
      "text/html": [
       "<div>\n",
       "<style scoped>\n",
       "    .dataframe tbody tr th:only-of-type {\n",
       "        vertical-align: middle;\n",
       "    }\n",
       "\n",
       "    .dataframe tbody tr th {\n",
       "        vertical-align: top;\n",
       "    }\n",
       "\n",
       "    .dataframe thead th {\n",
       "        text-align: right;\n",
       "    }\n",
       "</style>\n",
       "<table border=\"1\" class=\"dataframe\">\n",
       "  <thead>\n",
       "    <tr style=\"text-align: right;\">\n",
       "      <th></th>\n",
       "      <th>tarefa</th>\n",
       "      <th>maq_1</th>\n",
       "      <th>maq_2</th>\n",
       "      <th>maq_3</th>\n",
       "      <th>maq_4</th>\n",
       "      <th>maq_5</th>\n",
       "      <th>peso</th>\n",
       "      <th>due_date</th>\n",
       "    </tr>\n",
       "  </thead>\n",
       "  <tbody>\n",
       "    <tr>\n",
       "      <th>0</th>\n",
       "      <td>1</td>\n",
       "      <td>2</td>\n",
       "      <td>1</td>\n",
       "      <td>4</td>\n",
       "      <td>7</td>\n",
       "      <td>8</td>\n",
       "      <td>8</td>\n",
       "      <td>6</td>\n",
       "    </tr>\n",
       "    <tr>\n",
       "      <th>1</th>\n",
       "      <td>2</td>\n",
       "      <td>8</td>\n",
       "      <td>3</td>\n",
       "      <td>2</td>\n",
       "      <td>1</td>\n",
       "      <td>5</td>\n",
       "      <td>5</td>\n",
       "      <td>6</td>\n",
       "    </tr>\n",
       "  </tbody>\n",
       "</table>\n",
       "</div>"
      ],
      "text/plain": [
       "   tarefa  maq_1  maq_2  maq_3  maq_4  maq_5  peso  due_date\n",
       "0       1      2      1      4      7      8     8         6\n",
       "1       2      8      3      2      1      5     5         6"
      ]
     },
     "execution_count": 2,
     "metadata": {},
     "output_type": "execute_result"
    }
   ],
   "source": [
    "url = \"https://raw.githubusercontent.com/LucasAzvd/teoria-da-decis-o/main/data/i5x25.csv?token=GHSAT0AAAAAABMQ7XE24ODLWYKVZDXOID4YYPNPEZA\"\n",
    "df = pd.read_csv(url)\n",
    "df.head(2)"
   ]
  },
  {
   "cell_type": "markdown",
   "metadata": {
    "id": "5Qcuq60bcI4C",
    "tags": []
   },
   "source": [
    "# Funções objetivo\n",
    "\n",
    "## Min F1(x)\n",
    "\n",
    "\\begin{equation}\n",
    "minf_{1}(x)= C_{max} = max\\left (\\sum_{j=1}^{N}\\sum_{k=1}^{N} t_{ij}x_{ijk}  \\right )\\\\\n",
    "i\\epsilon\\left\\{ i,...,M \\right \\}\n",
    "\\end{equation}\n",
    "\n",
    "Essa função nos trás o tempo de execução máximo de uma máquina, somando todas as tarefas que foram executadas na mesma.   \n",
    "Seu retorno é representado pelo maior tempo de execução das máquinas e sua minimização "
   ]
  },
  {
   "cell_type": "code",
   "execution_count": 3,
   "metadata": {
    "ExecuteTime": {
     "end_time": "2021-12-12T21:24:34.089486Z",
     "start_time": "2021-12-12T21:24:34.076489Z"
    },
    "id": "IqeN-2pecI4D"
   },
   "outputs": [],
   "source": [
    "def min_f1(df_alocacao: pd.DataFrame) -> dict:\n",
    "    \"\"\"Minimizar o makespan, calculando o tempo de execução em todas as máquinas \n",
    "            e retornando a que mais demora\n",
    "    Args\n",
    "        df_alocacao[pd.DataFrame]: Dataframe com a alocação das máquinas\n",
    "    Returns:\n",
    "        int : O maior tempo de execução das máquinas\n",
    "    \"\"\"\n",
    "\n",
    "    tempo_maximo_atual = max(df_alocacao.iloc[:, 1:6].sum())\n",
    "    \n",
    "    return tempo_maximo_atual"
   ]
  },
  {
   "cell_type": "markdown",
   "metadata": {
    "id": "JtEmresZcI4E",
    "tags": []
   },
   "source": [
    "## Min F2(x)\n",
    "\n",
    "\\begin{equation}\n",
    "minf_{2}(x)= \\sum_{j=1}^{N} w_{j}t_{j}\n",
    "\\end{equation}\n",
    "\n",
    "Se refere a soma ponderada dos atrasos que ocorreram com a penalidade $W_{j}$."
   ]
  },
  {
   "cell_type": "code",
   "execution_count": 4,
   "metadata": {
    "ExecuteTime": {
     "end_time": "2021-12-12T21:24:34.105484Z",
     "start_time": "2021-12-12T21:24:34.091490Z"
    },
    "id": "ldSt5CIycI4E"
   },
   "outputs": [],
   "source": [
    "def min_f2(df_alocacao):\n",
    "    df_alocacao['penalidade'] = df_alocacao.iloc[:, 1:6].max(axis=1)\n",
    "    df_alocacao['penalidade'] = df_alocacao['penalidade'] - df_alocacao['due_date']\n",
    "    df_alocacao.loc[df_alocacao['penalidade'] < 0, 'penalidade'] = 0\n",
    "    df_alocacao['penalidade'] = df_alocacao['penalidade']*df_alocacao['peso']\n",
    "\n",
    "    penalidade = max(df_alocacao.drop(['tarefa', 'peso', 'due_date'], axis=1).sum())\n",
    "\n",
    "    return penalidade"
   ]
  },
  {
   "cell_type": "markdown",
   "metadata": {
    "id": "cvq-dEAEcI4F"
   },
   "source": [
    "## Restrições\n",
    "\n",
    "Iremos implementar as seguintes restrições na função abaixo:  \n",
    "`restricao_tarefas_maquinas`\n",
    "\\begin{equation}\n",
    " \\sum_{i=1}^{M}\\sum_{k=1}^{N+1} x_{ijk} = 1,\\forall j\\epsilon \\left \\{ 1,...,N \\right \\}\n",
    "\\end{equation}\n",
    "\n",
    "`restricao_tempo_máximo`\n",
    "\\begin{equation}\n",
    "C_{max}\\geq  \\sum_{i=1}^{M}\\sum_{k=1}^{N+1} t_{ij}x_{ijk},\\forall i\\epsilon \\left \\{ 1,...,M \\right \\}\n",
    "\\end{equation}\n",
    "\n",
    "Restrição redundante para o nosso código. Se trata de validar que um máquina pode ficar sem nenhuma tarefa atribuída.\n",
    "\\begin{equation}\n",
    "\\sum_{k=1}^{N} x_{i0k}\\leq 1,\\forall i\\epsilon \\left \\{ 1,...,M \\right \\}\n",
    "\\end{equation}\n",
    "\n",
    "Restrição redundante para o nosso código. Se trata de verificação de finalização de tarefas antes da atribuição a uma máquina.\n",
    "\\begin{equation}\n",
    "\\sum_{j=1,j\\neq h}^{N+1} x_{ijh} - \\sum_{k=1,k\\neq h}^{N+1} x_{ihk} = 0,\\forall h\\epsilon \\left \\{ 1,...,N \\right \\}e\\forall i\\epsilon \\left \\{ 1,...,M \\right \\}\n",
    "\\end{equation}\n",
    "\n",
    "Restrição redundante para o nosso código. Se trata se a tarefa está exutando uma tarefa ou não.\n",
    "\\begin{equation}\n",
    "C_{ik}\\geqslant C_{ij} - L + \\left ( t_{ij}+L \\right )x_{ijk},\\forall \\text{j e k}\\epsilon \\left \\{ 1,..,N \\right \\}\n",
    "\\end{equation}\n",
    "\n",
    "`restricao_tempo_atraso`\n",
    "\\begin{equation}\n",
    "T_{j}\\geq C_{j}-d,\\forall j\\epsilon \\left \\{ 1,...,N \\right \\}\n",
    "\\end{equation}\n",
    "\n",
    "Caso alguma restrição seja violada, retornamos **True**."
   ]
  },
  {
   "cell_type": "code",
   "execution_count": 5,
   "metadata": {
    "ExecuteTime": {
     "end_time": "2021-12-12T21:24:34.121484Z",
     "start_time": "2021-12-12T21:24:34.107485Z"
    },
    "id": "XOIFPyR1cI4G"
   },
   "outputs": [],
   "source": [
    "def restricao_tarefas_maquinas(df_alocacao: pd.DataFrame):\n",
    "    \"\"\"Cada tarefa deverá ir para uma máquina obrigatoriamente, garantindo que todas as tarefas sejam executadas.\n",
    "    Nela verificamos de existe alguma linha vazia no nosso dataframe de linhas de execução, que representaria uma tarefa sem alocar.\n",
    "    Também verificamos se as tarefas são alocadas apenas para uma máquina.\n",
    "    \"\"\"\n",
    "    soma_linhas_dataframe = df_alocacao.iloc[:, 1:6].nunique(axis=1)\n",
    "    for i in soma_linhas_dataframe:\n",
    "        if i != 2:  # Restricao violada\n",
    "            # print(\"Restrito: restricao_tarefas_maquinas\")\n",
    "            return True\n",
    "\n",
    "    return False"
   ]
  },
  {
   "cell_type": "code",
   "execution_count": 6,
   "metadata": {
    "ExecuteTime": {
     "end_time": "2021-12-12T21:24:34.136484Z",
     "start_time": "2021-12-12T21:24:34.124486Z"
    },
    "id": "fd2RIvqZcygG"
   },
   "outputs": [],
   "source": [
    "def restricao_tempo_maximo(df_alocacao: int, tempo_execucao_maquinas: list):\n",
    "    \"\"\"Nesta restrição garantimos que o tempo máximo de execução seja respeitado.\n",
    "    \"\"\"\n",
    "    for tempo_exec in np.array(df_alocacao.iloc[:,1:6].sum()):\n",
    "        if tempo_exec > tempo_execucao_maquinas: # Viola restrição\n",
    "            # print(\"Restrito: restricao_tempo_maximo\")\n",
    "            return True\n",
    "        else:\n",
    "            return False"
   ]
  },
  {
   "cell_type": "code",
   "execution_count": 7,
   "metadata": {
    "ExecuteTime": {
     "end_time": "2021-12-12T21:24:34.166486Z",
     "start_time": "2021-12-12T21:24:34.138485Z"
    },
    "id": "gK6Uul3ejxd_"
   },
   "outputs": [],
   "source": [
    "def restricao_tempo_atraso(df_alocacao: True):\n",
    "    \"\"\"Restrição referente ao tempo de atraso, ela delimita que o tempo de execução\n",
    "    da tarefa tem que ser limitado pelo tempo d definido.\"\"\"\n",
    "    df_aux = df_alocacao.copy()\n",
    "    df_aux['tempo_atraso'] = df_aux['due_date'] - df_alocacao.iloc[:, 1:6].max(axis=1)\n",
    "    \n",
    "    df_aux['restricao_atraso'] = df_aux['tempo_atraso'] - df_aux['due_date'] + df_alocacao.iloc[:, 1:6].max(axis=1)\n",
    "    if sum(df_aux['restricao_atraso']):\n",
    "        # print(\"Restrito: restricao_tempo_atraso\")\n",
    "        return True\n",
    "    else:\n",
    "        return False"
   ]
  },
  {
   "cell_type": "markdown",
   "metadata": {
    "id": "WhyJ7vM7vQiH"
   },
   "source": [
    "## Estrutura de vizinhança\n",
    "\n",
    "1.   Shift\n",
    "2.   Swtich\n",
    "3.   Swap\n",
    "4.   Two-Shift\n",
    "5.   Task-Move\n"
   ]
  },
  {
   "cell_type": "code",
   "execution_count": 8,
   "metadata": {
    "ExecuteTime": {
     "end_time": "2021-12-12T21:24:34.181486Z",
     "start_time": "2021-12-12T21:24:34.169523Z"
    },
    "id": "SKj8TIo1kGuq"
   },
   "outputs": [],
   "source": [
    "def swap(df_alocacao: pd.DataFrame, df: pd.DataFrame):\n",
    "    quant_tarefas = 25\n",
    "    quant_maquinas = 5\n",
    "    tarefa_swap_1 = random.randint(1, quant_tarefas)\n",
    "    if tarefa_swap_1 == quant_tarefas:\n",
    "        tarefa_swap_2 = tarefa_swap_1 - 1\n",
    "    else:\n",
    "        tarefa_swap_2 = tarefa_swap_1 + 1\n",
    "\n",
    "    tarefa_swap_1_list = df_alocacao[df_alocacao['tarefa']\n",
    "                                     == tarefa_swap_1].iloc[:, 1:6].values[0].copy()\n",
    "    tarefa_swap_2_list = df_alocacao[df_alocacao['tarefa']\n",
    "                                     == tarefa_swap_2].iloc[:, 1:6].values[0].copy()\n",
    "    for i in range(0, len(tarefa_swap_1_list)):\n",
    "        if tarefa_swap_1_list[i] > 0:\n",
    "            maq_1 = i+1\n",
    "            df_alocacao.loc[df_alocacao[\"tarefa\"]\n",
    "                            == tarefa_swap_1, f'maq_{i+1}'] = 0\n",
    "\n",
    "    for i in range(0, len(tarefa_swap_2_list)):\n",
    "        if tarefa_swap_2_list[i] > 0:\n",
    "            maq_2 = i+1\n",
    "            df_alocacao.loc[df_alocacao[\"tarefa\"] ==\n",
    "                            tarefa_swap_2, f'maq_{maq_2}'] = 0\n",
    "\n",
    "    df_alocacao.loc[df_alocacao[\"tarefa\"] == tarefa_swap_1,\n",
    "                    f'maq_{maq_2}'] = df[df[\"tarefa\"] == tarefa_swap_1][f'maq_{maq_2}']\n",
    "    df_alocacao.loc[df_alocacao[\"tarefa\"] == tarefa_swap_2,\n",
    "                    f'maq_{maq_1}'] = df[df[\"tarefa\"] == tarefa_swap_2][f'maq_{maq_1}']\n",
    "\n",
    "    return df_alocacao"
   ]
  },
  {
   "cell_type": "code",
   "execution_count": 9,
   "metadata": {
    "ExecuteTime": {
     "end_time": "2021-12-12T21:24:34.197484Z",
     "start_time": "2021-12-12T21:24:34.184486Z"
    },
    "id": "WA5IHxa1gQxO"
   },
   "outputs": [],
   "source": [
    "def task_move(df_alocacao: pd.DataFrame, df: pd.DataFrame):\n",
    "    quant_tarefas = 25\n",
    "    task_to_move = random.randint(1, quant_tarefas)\n",
    "\n",
    "    list_tasks = df_alocacao[df_alocacao['tarefa'] ==\n",
    "                             task_to_move].iloc[:, 1:6].values[0].copy()\n",
    "    for i in range(0, len(list_tasks)):\n",
    "        if list_tasks[i] > 0:\n",
    "            maq = i+1\n",
    "            df_alocacao.loc[df_alocacao[\"tarefa\"]\n",
    "                            == task_to_move, f'maq_{maq}'] = 0\n",
    "            if maq == 5:\n",
    "                df_alocacao.loc[df_alocacao[\"tarefa\"] == task_to_move,\n",
    "                                f'maq_{maq-1}'] = df[df['tarefa'] == task_to_move][f'maq_{maq-1}']\n",
    "            else:\n",
    "                df_alocacao.loc[df_alocacao[\"tarefa\"] == task_to_move,\n",
    "                                f'maq_{maq+1}'] = df[df['tarefa'] == task_to_move][f'maq_{maq+1}']\n",
    "            break\n",
    "\n",
    "    return df_alocacao"
   ]
  },
  {
   "cell_type": "code",
   "execution_count": 10,
   "metadata": {
    "ExecuteTime": {
     "end_time": "2021-12-12T21:24:34.212484Z",
     "start_time": "2021-12-12T21:24:34.199490Z"
    },
    "id": "WI-bT3TBfIwO"
   },
   "outputs": [],
   "source": [
    "def estruturas(df_alocacao, df, k):\n",
    "    if k==1:\n",
    "        df_alocacao_new = swap(df_alocacao, df)\n",
    "    else:\n",
    "        df_alocacao_new = task_move(df_alocacao, df)\n",
    "    return df_alocacao_new"
   ]
  },
  {
   "cell_type": "markdown",
   "metadata": {
    "id": "aQK2PeLhcI4B"
   },
   "source": [
    "## Variáveis"
   ]
  },
  {
   "cell_type": "code",
   "execution_count": 11,
   "metadata": {
    "ExecuteTime": {
     "end_time": "2021-12-12T21:24:34.228488Z",
     "start_time": "2021-12-12T21:24:34.213484Z"
    },
    "id": "PP_uEejrcI4C"
   },
   "outputs": [],
   "source": [
    "quant_maq = 5\n",
    "quant_tarefas = df.shape[0]"
   ]
  },
  {
   "cell_type": "markdown",
   "metadata": {
    "id": "hD365SrO51CP"
   },
   "source": [
    "Alocando as tarefas nas máquinas aleatóriamente"
   ]
  },
  {
   "cell_type": "code",
   "execution_count": 12,
   "metadata": {
    "ExecuteTime": {
     "end_time": "2021-12-12T21:24:34.244482Z",
     "start_time": "2021-12-12T21:24:34.230486Z"
    },
    "id": "Q0bqqsfC3F0F"
   },
   "outputs": [],
   "source": [
    "def aloca_tarefas(df_alocacao, quant_tarefas):\n",
    "    for i in range(0, quant_tarefas):\n",
    "        maq_aloc = random.randint(1,quant_maq)\n",
    "        while (df_alocacao[f'maq_{maq_aloc}'].nunique()-1)  == 5:\n",
    "            maq_aloc = random.randint(1,quant_maq)\n",
    "\n",
    "        # Pegando tarefa i e atribuindo o valor dela a maquina referente\n",
    "        df_alocacao.iloc[i][f'maq_{maq_aloc}'] = df[df['tarefa'] == i+1][f'maq_{maq_aloc}'].values[0]\n",
    "    return df_alocacao\n"
   ]
  },
  {
   "cell_type": "markdown",
   "metadata": {
    "id": "fyI17AJiKERn"
   },
   "source": [
    "Calculando a penalidade inicial da nossa alocação"
   ]
  },
  {
   "cell_type": "code",
   "execution_count": 13,
   "metadata": {
    "ExecuteTime": {
     "end_time": "2021-12-12T21:24:34.260486Z",
     "start_time": "2021-12-12T21:24:34.246485Z"
    },
    "id": "5z7MYo1jGRw9"
   },
   "outputs": [],
   "source": [
    "def calcula_penalidade(df_alocacao):\n",
    "    df_alocacao['penalidade'] = 0\n",
    "    df_alocacao['penalidade'] = df_alocacao.iloc[:, 1:6].max(axis=1)\n",
    "    df_alocacao['penalidade'] = df_alocacao['penalidade'] - df_alocacao['due_date']\n",
    "    df_alocacao.loc[df_alocacao['penalidade'] < 0, 'penalidade'] = 0\n",
    "    df_alocacao['penalidade'] = df_alocacao['penalidade']*df_alocacao['peso']\n",
    "    return df_alocacao"
   ]
  },
  {
   "cell_type": "code",
   "execution_count": 14,
   "metadata": {
    "ExecuteTime": {
     "end_time": "2021-12-12T21:24:34.276482Z",
     "start_time": "2021-12-12T21:24:34.262485Z"
    },
    "id": "WF7wkbQncI4H"
   },
   "outputs": [],
   "source": [
    "def gera_alocacao():\n",
    "    \"\"\"Gera alocação para as máquinas aleatoriamente\"\"\"\n",
    "    df_alocacao = df.copy()\n",
    "    df_alocacao['maq_1'] = 0\n",
    "    df_alocacao['maq_2'] = 0\n",
    "    df_alocacao['maq_3'] = 0\n",
    "    df_alocacao['maq_4'] = 0\n",
    "    df_alocacao['maq_5'] = 0\n",
    "    df_alocacao = aloca_tarefas(df_alocacao, quant_tarefas)\n",
    "    df_alocacao = calcula_penalidade(df_alocacao)\n",
    "    return df_alocacao"
   ]
  },
  {
   "cell_type": "markdown",
   "metadata": {},
   "source": [
    "## Soma Ponderada\n",
    "\n",
    "Para aplicação da função de soma ponderada iremos realizar chamadas dos dois modelos de otimização simultaneamente, nisso aplicaremos um peso em cada e gerar o novo resultado. Nosso primeiro peso será 0.5(igual para amas funções) após ele iremos escolher aleatóriamente o valor dos pesos."
   ]
  },
  {
   "cell_type": "code",
   "execution_count": 15,
   "metadata": {
    "ExecuteTime": {
     "end_time": "2021-12-12T21:24:34.292485Z",
     "start_time": "2021-12-12T21:24:34.278486Z"
    },
    "code_folding": []
   },
   "outputs": [],
   "source": [
    "def soma_ponderada(peso_1, peso_2, df_alocacao):\n",
    "    tempo_maximo_execucao = min_f1(df_alocacao)\n",
    "    penalidade_maximo_execucao = min_f2(df_alocacao)\n",
    "    \n",
    "    tempo_maximo_execucao = tempo_maximo_execucao*peso_1\n",
    "    penalidade_maximo_execucao = penalidade_maximo_execucao*peso_2\n",
    "    \n",
    "    return tempo_maximo_execucao, penalidade_maximo_execucao"
   ]
  },
  {
   "cell_type": "markdown",
   "metadata": {
    "id": "BfJuPw--KMlN"
   },
   "source": [
    "# Execução do nosso algoritmo"
   ]
  },
  {
   "cell_type": "code",
   "execution_count": 16,
   "metadata": {
    "ExecuteTime": {
     "end_time": "2021-12-12T21:24:34.308497Z",
     "start_time": "2021-12-12T21:24:34.294487Z"
    }
   },
   "outputs": [],
   "source": [
    "def exec_algo(n_execucoes, n_epocas):\n",
    "    execucoes_dict = {}\n",
    "    peso_1 = 0.5 # Nossos primeiros pesos são iguais\n",
    "    peso_2 = 0.5\n",
    "    for n_exec in range(0, n_execucoes):\n",
    "        df_alocacao = gera_alocacao()\n",
    "\n",
    "        list_soma = {}\n",
    "        list_tempo_maximo = []\n",
    "        list_penalidade_inicial = [] \n",
    "        list_soma_resultante = []\n",
    "        \n",
    "        tempo_maximo, penalidade_inicial = soma_ponderada(peso_1, peso_2, df_alocacao)\n",
    "        soma_resultante = tempo_maximo + penalidade_inicial\n",
    "\n",
    "        k = 1\n",
    "        for epc in tqdm(range(0, n_epocas)):\n",
    "        # for epc in range(0, n_epocas):\n",
    "            # Gerando novos pesos aleatorios\n",
    "            peso_1 = random.uniform(0, 1)\n",
    "            peso_2 = 1 - peso_1 # A soma do peso 1 com o peso 2 é sempre 1\n",
    "            \n",
    "            soma_poderada_execucao = soma_resultante\n",
    "            tempo_maximo_execucao = tempo_maximo\n",
    "            \n",
    "            df_alocacao_new = df_alocacao.copy()\n",
    "            df_alocacao_new = estruturas(df_alocacao, df, k)\n",
    "            k=1\n",
    "            restricao_1 = restricao_tarefas_maquinas(df_alocacao_new)\n",
    "            restricao_2 = restricao_tempo_maximo(df_alocacao_new, tempo_maximo)\n",
    "            restricao_3 = restricao_tempo_atraso(df_alocacao_new)\n",
    "            if restricao_1 or restricao_2 or restricao_3:\n",
    "                # Se alguma restrição verdadeira, adicionamos os valores antigos a lista\n",
    "                list_tempo_maximo.append(tempo_maximo)\n",
    "                list_penalidade_inicial.append(penalidade_inicial)\n",
    "                list_soma_resultante.append(soma_resultante)\n",
    "                k=0\n",
    "\n",
    "            else:\n",
    "                tempo_maximo_execucao, penalidade_execucao = soma_ponderada(peso_1, peso_2, df_alocacao_new)\n",
    "                soma_poderada_execucao = tempo_maximo_execucao + penalidade_execucao\n",
    "\n",
    "                if soma_poderada_execucao < soma_resultante:\n",
    "                    # print(\"Otimizado\")\n",
    "                    soma_resultante = soma_poderada_execucao\n",
    "                    tempo_maximo = tempo_maximo_execucao\n",
    "                    penalidade_inicial = penalidade_execucao\n",
    "                    df_alocacao = df_alocacao_new.copy()\n",
    "                \n",
    "                list_tempo_maximo.append(tempo_maximo)\n",
    "                list_penalidade_inicial.append(penalidade_inicial)\n",
    "                list_soma_resultante.append(soma_resultante)\n",
    "\n",
    "        df_alocacao.to_csv(f\"data/arquivos_gerados/exec_soma_{n_exec+1}.csv\", index=False)\n",
    "        execucoes_dict[f'{n_exec+1}'] = {'tempo_maximo': list_tempo_maximo, \n",
    "                                           'penalidade_inicial': list_penalidade_inicial,\n",
    "                                           'soma_resultante': list_soma_resultante}\n",
    "\n",
    "    return execucoes_dict\n",
    "    "
   ]
  },
  {
   "cell_type": "code",
   "execution_count": 17,
   "metadata": {
    "ExecuteTime": {
     "end_time": "2021-12-12T21:24:43.156955Z",
     "start_time": "2021-12-12T21:24:34.310485Z"
    },
    "id": "-AcHJ7iecI4I"
   },
   "outputs": [
    {
     "name": "stderr",
     "output_type": "stream",
     "text": [
      "100%|███████████████████████████████████████████████████████████████████████████████████████████████████████████████████████████████████████████████████████████████████████████| 100/100 [00:01<00:00, 56.95it/s]\n",
      "100%|███████████████████████████████████████████████████████████████████████████████████████████████████████████████████████████████████████████████████████████████████████████| 100/100 [00:01<00:00, 60.31it/s]\n",
      "100%|███████████████████████████████████████████████████████████████████████████████████████████████████████████████████████████████████████████████████████████████████████████| 100/100 [00:01<00:00, 52.99it/s]\n",
      "100%|███████████████████████████████████████████████████████████████████████████████████████████████████████████████████████████████████████████████████████████████████████████| 100/100 [00:01<00:00, 60.24it/s]\n",
      "100%|███████████████████████████████████████████████████████████████████████████████████████████████████████████████████████████████████████████████████████████████████████████| 100/100 [00:01<00:00, 52.86it/s]\n"
     ]
    }
   ],
   "source": [
    "n_epocas = 100\n",
    "n_execucoes = 5\n",
    "execucoes_dict = exec_algo(n_execucoes, n_epocas)"
   ]
  },
  {
   "cell_type": "code",
   "execution_count": 18,
   "metadata": {
    "ExecuteTime": {
     "end_time": "2021-12-12T21:24:43.171956Z",
     "start_time": "2021-12-12T21:24:43.162959Z"
    }
   },
   "outputs": [
    {
     "data": {
      "text/plain": [
       "dict_keys(['tempo_maximo', 'penalidade_inicial', 'soma_resultante'])"
      ]
     },
     "execution_count": 18,
     "metadata": {},
     "output_type": "execute_result"
    }
   ],
   "source": [
    "execucoes_dict['1'].keys()"
   ]
  },
  {
   "cell_type": "code",
   "execution_count": null,
   "metadata": {},
   "outputs": [],
   "source": []
  },
  {
   "cell_type": "code",
   "execution_count": 19,
   "metadata": {
    "ExecuteTime": {
     "end_time": "2021-12-12T21:24:43.203955Z",
     "start_time": "2021-12-12T21:24:43.174953Z"
    }
   },
   "outputs": [
    {
     "name": "stdout",
     "output_type": "stream",
     "text": [
      "Para execução da soma ponderada temos o seguinte resultado:\n",
      "Para a execução 1 temos média:56.97, desvio padrão:17.08 e valor máximo:92.0\n",
      "Para a execução 2 temos média:75.74, desvio padrão:25.82 e valor máximo:108.12088284738454\n",
      "Para a execução 3 temos média:48.66, desvio padrão:11.54 e valor máximo:77.2706355621209\n",
      "Para a execução 4 temos média:65.63, desvio padrão:32.6 e valor máximo:128.08083213972844\n",
      "Para a execução 5 temos média:43.42, desvio padrão:5.24 e valor máximo:60.92644751936334\n"
     ]
    }
   ],
   "source": [
    "print(\"Para execução da soma ponderada temos o seguinte resultado:\")\n",
    "for i in execucoes_dict.keys():\n",
    "    media = np.mean(execucoes_dict[i]['soma_resultante'])\n",
    "    std = np.std(execucoes_dict[i]['soma_resultante'])\n",
    "    max_value = np.max(execucoes_dict[i]['soma_resultante'])\n",
    "    print(f\"Para a execução {i} temos média:{round(media, 2)}, desvio padrão:{round(std, 2)} e valor máximo:{max_value}\")"
   ]
  },
  {
   "cell_type": "code",
   "execution_count": 20,
   "metadata": {
    "ExecuteTime": {
     "end_time": "2021-12-12T21:24:43.773995Z",
     "start_time": "2021-12-12T21:24:43.207982Z"
    }
   },
   "outputs": [
    {
     "data": {
      "image/png": "[encoded data removed]",
      "text/plain": [
       "<Figure size 640x480 with 1 Axes>"
      ]
     },
     "metadata": {},
     "output_type": "display_data"
    }
   ],
   "source": [
    "import matplotlib.pyplot as plt\n",
    "\n",
    "# plt.figure(figsize=(12,5))\n",
    "plt.plot(execucoes_dict['1']['soma_resultante'], label='Execução 1')\n",
    "plt.plot(execucoes_dict['2']['soma_resultante'], label='Execução 2')\n",
    "plt.plot(execucoes_dict['3']['soma_resultante'], label='Execução 3')\n",
    "plt.plot(execucoes_dict['4']['soma_resultante'], label='Execução 4')\n",
    "plt.plot(execucoes_dict['5']['soma_resultante'], label='Execução 5')\n",
    "\n",
    "plt.title(\"Soma Ponderada resultante em cada execução\")\n",
    "plt.ylabel(\"Valor da soma ponderada\")\n",
    "plt.legend()\n",
    "plt.show()"
   ]
  },
  {
   "cell_type": "code",
   "execution_count": null,
   "metadata": {},
   "outputs": [],
   "source": []
  },
  {
   "cell_type": "code",
   "execution_count": 21,
   "metadata": {
    "ExecuteTime": {
     "end_time": "2021-12-12T21:24:43.789953Z",
     "start_time": "2021-12-12T21:24:43.775953Z"
    }
   },
   "outputs": [],
   "source": [
    "ultima_exec = {}\n",
    "\n",
    "for i in execucoes_dict.keys():\n",
    "    ultima_exec[i] = {}\n",
    "\n",
    "for i in execucoes_dict.keys():\n",
    "    ultima_exec[i]['tempo_maximo'] = execucoes_dict[i]['tempo_maximo'][-1]\n",
    "    ultima_exec[i]['penalidade_inicial'] = execucoes_dict[i]['penalidade_inicial'][-1]\n",
    "    "
   ]
  },
  {
   "cell_type": "code",
   "execution_count": 22,
   "metadata": {
    "ExecuteTime": {
     "end_time": "2021-12-12T21:24:44.151283Z",
     "start_time": "2021-12-12T21:24:43.791957Z"
    }
   },
   "outputs": [
    {
     "data": {
      "image/png": "[encoded data removed]",
      "text/plain": [
       "<Figure size 640x480 with 1 Axes>"
      ]
     },
     "metadata": {},
     "output_type": "display_data"
    }
   ],
   "source": [
    "import matplotlib.pyplot as plt\n",
    "\n",
    "#plt.figure(figsize=(12,5))\n",
    "plt.scatter(ultima_exec['1']['tempo_maximo'], ultima_exec['1']['penalidade_inicial'], label='Execução 1')\n",
    "plt.scatter(ultima_exec['2']['tempo_maximo'], ultima_exec['2']['penalidade_inicial'], label='Execução 2')\n",
    "plt.scatter(ultima_exec['3']['tempo_maximo'], ultima_exec['3']['penalidade_inicial'], label='Execução 3')\n",
    "plt.scatter(ultima_exec['4']['tempo_maximo'], ultima_exec['4']['penalidade_inicial'], label='Execução 4')\n",
    "plt.scatter(ultima_exec['5']['tempo_maximo'], ultima_exec['5']['penalidade_inicial'], label='Execução 5')\n",
    "\n",
    "plt.title(\"Fronteira final das 20 execuções do algoritmo\")\n",
    "plt.ylabel(\"Penalidade final (f2)\")\n",
    "plt.xlabel(\"Tempo máximo final (f1)\")\n",
    "plt.legend()\n",
    "plt.show()"
   ]
  },
  {
   "cell_type": "code",
   "execution_count": 23,
   "metadata": {
    "ExecuteTime": {
     "end_time": "2021-12-12T21:24:44.532956Z",
     "start_time": "2021-12-12T21:24:44.152952Z"
    }
   },
   "outputs": [
    {
     "data": {
      "image/png": "[encoded data removed]",
      "text/plain": [
       "<Figure size 1200x500 with 1 Axes>"
      ]
     },
     "metadata": {},
     "output_type": "display_data"
    }
   ],
   "source": [
    "import matplotlib.pyplot as plt\n",
    "\n",
    "plt.figure(figsize=(12,5))\n",
    "plt.scatter(execucoes_dict['1']['tempo_maximo'], execucoes_dict['1']['penalidade_inicial'], label='Execução 1')\n",
    "plt.scatter(execucoes_dict['2']['tempo_maximo'], execucoes_dict['2']['penalidade_inicial'], label='Execução 2')\n",
    "plt.scatter(execucoes_dict['3']['tempo_maximo'], execucoes_dict['3']['penalidade_inicial'], label='Execução 3')\n",
    "plt.scatter(execucoes_dict['4']['tempo_maximo'], execucoes_dict['4']['penalidade_inicial'], label='Execução 4')\n",
    "plt.scatter(execucoes_dict['5']['tempo_maximo'], execucoes_dict['5']['penalidade_inicial'], label='Execução 5')\n",
    "\n",
    "plt.title(\"Tempo de execução das tarefas com F1 de otimização\")\n",
    "plt.ylabel(\"Penalidade final (f2)\")\n",
    "plt.ylabel(\"Tempo máximo final (f1)\")\n",
    "plt.legend()\n",
    "plt.show()"
   ]
  },
  {
   "cell_type": "code",
   "execution_count": 24,
   "metadata": {
    "ExecuteTime": {
     "end_time": "2021-12-12T21:24:45.434716Z",
     "start_time": "2021-12-12T21:24:44.534956Z"
    },
    "code_folding": []
   },
   "outputs": [
    {
     "data": {
      "image/png": "[encoded data removed]",
      "text/plain": [
       "<Figure size 640x480 with 1 Axes>"
      ]
     },
     "metadata": {},
     "output_type": "display_data"
    }
   ],
   "source": [
    "import seaborn as sns\n",
    "sns.scatterplot(\n",
    "    data=execucoes_dict['1'], x=\"tempo_maximo\", y=\"penalidade_inicial\",\n",
    "    sizes=(20, 200), hue_norm=(0, 7), legend=\"full\"\n",
    ")\n",
    "plt.show()"
   ]
  },
  {
   "cell_type": "markdown",
   "metadata": {
    "tags": []
   },
   "source": [
    "## Calculado resultados para melhor execução\n",
    "\n",
    "A nossa melhor execução se apresenta com ∈=80"
   ]
  },
  {
   "cell_type": "code",
   "execution_count": 19,
   "metadata": {},
   "outputs": [],
   "source": [
    "df = pd.read_csv('data/arquivos_gerados/exec_soma_5.csv')"
   ]
  },
  {
   "cell_type": "markdown",
   "metadata": {
    "tags": []
   },
   "source": [
    "### Calculando tempo de cada máquina\n",
    "\n",
    "A máquina 2 apresentou o maior tempo, sendo assim o tempo de execução das tarefas.  \n",
    "+ Tempo máquina 2: 52\n",
    "\n",
    "Tempo de pensalidade:  \n",
    "+ Tempo de pensalidade: 120"
   ]
  },
  {
   "cell_type": "code",
   "execution_count": 29,
   "metadata": {},
   "outputs": [
    {
     "data": {
      "text/plain": [
       "tarefa        325\n",
       "maq_1          26\n",
       "maq_2          52\n",
       "maq_3          23\n",
       "maq_4          26\n",
       "maq_5          33\n",
       "peso          131\n",
       "due_date      150\n",
       "penalidade    120\n",
       "dtype: int64"
      ]
     },
     "execution_count": 29,
     "metadata": {},
     "output_type": "execute_result"
    }
   ],
   "source": [
    "df.sum()"
   ]
  },
  {
   "cell_type": "markdown",
   "metadata": {
    "tags": []
   },
   "source": [
    "## Calculando atraso e adiantamento"
   ]
  },
  {
   "cell_type": "code",
   "execution_count": 30,
   "metadata": {},
   "outputs": [],
   "source": [
    "df_adiantamento = df.copy()"
   ]
  },
  {
   "cell_type": "code",
   "execution_count": 31,
   "metadata": {},
   "outputs": [],
   "source": [
    "df_adiantamento['maq_1_adt'] = df_adiantamento['due_date'] - df_adiantamento['maq_1']\n",
    "df_adiantamento['maq_2_adt'] = df_adiantamento['due_date'] - df_adiantamento['maq_2']\n",
    "df_adiantamento['maq_3_adt'] = df_adiantamento['due_date'] - df_adiantamento['maq_3']\n",
    "df_adiantamento['maq_4_adt'] = df_adiantamento['due_date'] - df_adiantamento['maq_4']\n",
    "df_adiantamento['maq_5_adt'] = df_adiantamento['due_date'] - df_adiantamento['maq_5']"
   ]
  },
  {
   "cell_type": "markdown",
   "metadata": {},
   "source": [
    "Para calcular o atraso e adiantamento, vamos calcular o tempo resultante em cada máquina.  \n",
    "+ Valores positivos representam adiantamentos\n",
    "+ Valores negativos representam atrasos  \n",
    "\n",
    "Realizando a soma dessas colunas temos o valor resultante"
   ]
  },
  {
   "cell_type": "code",
   "execution_count": 32,
   "metadata": {},
   "outputs": [
    {
     "data": {
      "text/plain": [
       "118.0"
      ]
     },
     "execution_count": 32,
     "metadata": {},
     "output_type": "execute_result"
    }
   ],
   "source": [
    "np.mean(df_adiantamento[['maq_1_adt', 'maq_2_adt',\n",
    "                         'maq_3_adt', 'maq_4_adt', 'maq_5_adt']].sum())"
   ]
  },
  {
   "cell_type": "markdown",
   "metadata": {},
   "source": [
    "O tempo médio de atraso e adiantamento entre as máquinas é **118 dias**."
   ]
  },
  {
   "cell_type": "markdown",
   "metadata": {},
   "source": [
    "# Calculando adiantamento"
   ]
  },
  {
   "cell_type": "markdown",
   "metadata": {},
   "source": [
    "Para calcular o dataframe vamos transformar todos os valores negativos em 0"
   ]
  },
  {
   "cell_type": "code",
   "execution_count": 33,
   "metadata": {},
   "outputs": [],
   "source": [
    "df_adiantamento = df.copy()"
   ]
  },
  {
   "cell_type": "code",
   "execution_count": 34,
   "metadata": {},
   "outputs": [],
   "source": [
    "df_adiantamento['maq_1_adt'] = df_adiantamento['due_date'] - df_adiantamento['maq_1']\n",
    "df_adiantamento['maq_2_adt'] = df_adiantamento['due_date'] - df_adiantamento['maq_2']\n",
    "df_adiantamento['maq_3_adt'] = df_adiantamento['due_date'] - df_adiantamento['maq_3']\n",
    "df_adiantamento['maq_4_adt'] = df_adiantamento['due_date'] - df_adiantamento['maq_4']\n",
    "df_adiantamento['maq_5_adt'] = df_adiantamento['due_date'] - df_adiantamento['maq_5']"
   ]
  },
  {
   "cell_type": "code",
   "execution_count": 35,
   "metadata": {},
   "outputs": [],
   "source": [
    "df_adiantamento.loc[df_adiantamento['maq_1_adt'] < 0, 'maq_1_adt'] = 0\n",
    "df_adiantamento.loc[df_adiantamento['maq_2_adt'] < 0, 'maq_2_adt'] = 0\n",
    "df_adiantamento.loc[df_adiantamento['maq_3_adt'] < 0, 'maq_3_adt'] = 0\n",
    "df_adiantamento.loc[df_adiantamento['maq_4_adt'] < 0, 'maq_4_adt'] = 0\n",
    "df_adiantamento.loc[df_adiantamento['maq_5_adt'] < 0, 'maq_5_adt'] = 0"
   ]
  },
  {
   "cell_type": "code",
   "execution_count": 36,
   "metadata": {},
   "outputs": [
    {
     "data": {
      "text/plain": [
       "123.8"
      ]
     },
     "execution_count": 36,
     "metadata": {},
     "output_type": "execute_result"
    }
   ],
   "source": [
    "np.mean(df_adiantamento[['maq_1_adt', 'maq_2_adt',\n",
    "                         'maq_3_adt', 'maq_4_adt', 'maq_5_adt']].sum())"
   ]
  },
  {
   "cell_type": "markdown",
   "metadata": {},
   "source": [
    "O tempo médio de atraso e adiantamento entre as máquinas é **123,8 dias**, arredondando para **124 dias**."
   ]
  },
  {
   "cell_type": "code",
   "execution_count": null,
   "metadata": {},
   "outputs": [],
   "source": []
  }
 ],
 "metadata": {
  "colab": {
   "collapsed_sections": [],
   "name": "main.ipynb",
   "provenance": []
  },
  "kernelspec": {
   "display_name": "Python 3",
   "language": "python",
   "name": "python3"
  },
  "language_info": {
   "codemirror_mode": {
    "name": "ipython",
    "version": 3
   },
   "file_extension": ".py",
   "mimetype": "text/x-python",
   "name": "python",
   "nbconvert_exporter": "python",
   "pygments_lexer": "ipython3",
   "version": "3.8.11"
  },
  "latex_envs": {
   "LaTeX_envs_menu_present": true,
   "autoclose": false,
   "autocomplete": true,
   "bibliofile": "biblio.bib",
   "cite_by": "apalike",
   "current_citInitial": 1,
   "eqLabelWithNumbers": true,
   "eqNumInitial": 1,
   "hotkeys": {
    "equation": "Ctrl-E",
    "itemize": "Ctrl-I"
   },
   "labels_anchors": false,
   "latex_user_defs": false,
   "report_style_numbering": false,
   "user_envs_cfg": false
  },
  "toc": {
   "base_numbering": 1,
   "nav_menu": {},
   "number_sections": true,
   "sideBar": true,
   "skip_h1_title": false,
   "title_cell": "Table of Contents",
   "title_sidebar": "Contents",
   "toc_cell": false,
   "toc_position": {},
   "toc_section_display": true,
   "toc_window_display": false
  },
  "varInspector": {
   "cols": {
    "lenName": 16,
    "lenType": 16,
    "lenVar": 40
   },
   "kernels_config": {
    "python": {
     "delete_cmd_postfix": "",
     "delete_cmd_prefix": "del ",
     "library": "var_list.py",
     "varRefreshCmd": "print(var_dic_list())"
    },
    "r": {
     "delete_cmd_postfix": ") ",
     "delete_cmd_prefix": "rm(",
     "library": "var_list.r",
     "varRefreshCmd": "cat(var_dic_list()) "
    }
   },
   "types_to_exclude": [
    "module",
    "function",
    "builtin_function_or_method",
    "instance",
    "_Feature"
   ],
   "window_display": false
  }
 },
 "nbformat": 4,
 "nbformat_minor": 4
}

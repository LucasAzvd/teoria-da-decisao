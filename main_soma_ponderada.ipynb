{
 "cells": [
  {
   "cell_type": "markdown",
   "metadata": {},
   "source": [
    "## Erro:\n",
    "Algoritmo generico, o nosso algoritmo pode piorar o desempenho"
   ]
  },
  {
   "cell_type": "markdown",
   "metadata": {},
   "source": [
    "A soma ponderada consiste em transformar nosso problema multiobjetivo em um problema mono objetivo, unindo as funções objetivos de maneira ponderada.  \n",
    "Os pesos são definidos com base no que voce pretende otimizar e sua soma tem que equivaler a 1  \n",
    "Nós possuimos duas funções na mesma escala **tempo** por isso não precisaremos aplicar nenhuma normalização"
   ]
  },
  {
   "cell_type": "code",
   "execution_count": 31,
   "metadata": {
    "ExecuteTime": {
     "end_time": "2021-12-12T04:29:26.974082Z",
     "start_time": "2021-12-12T04:29:26.967036Z"
    },
    "id": "ekGmyEEscI37"
   },
   "outputs": [],
   "source": [
    "import pandas as pd\n",
    "import numpy as np\n",
    "import json\n",
    "import random\n",
    "\n",
    "from tqdm import tqdm"
   ]
  },
  {
   "cell_type": "markdown",
   "metadata": {
    "id": "thXHPbI-cI3-",
    "tags": []
   },
   "source": [
    "Arquivo csv adaptado para diminuir trabalho com tratamento de dados"
   ]
  },
  {
   "cell_type": "code",
   "execution_count": 32,
   "metadata": {
    "ExecuteTime": {
     "end_time": "2021-12-12T04:29:27.367578Z",
     "start_time": "2021-12-12T04:29:27.167497Z"
    },
    "colab": {
     "base_uri": "https://localhost:8080/",
     "height": 112
    },
    "id": "zyIZ00JHcI4A",
    "outputId": "9ed1cc69-f9ca-483b-cbc8-799960ee7c74",
    "scrolled": true
   },
   "outputs": [
    {
     "data": {
      "text/html": [
       "<div>\n",
       "<style scoped>\n",
       "    .dataframe tbody tr th:only-of-type {\n",
       "        vertical-align: middle;\n",
       "    }\n",
       "\n",
       "    .dataframe tbody tr th {\n",
       "        vertical-align: top;\n",
       "    }\n",
       "\n",
       "    .dataframe thead th {\n",
       "        text-align: right;\n",
       "    }\n",
       "</style>\n",
       "<table border=\"1\" class=\"dataframe\">\n",
       "  <thead>\n",
       "    <tr style=\"text-align: right;\">\n",
       "      <th></th>\n",
       "      <th>tarefa</th>\n",
       "      <th>maq_1</th>\n",
       "      <th>maq_2</th>\n",
       "      <th>maq_3</th>\n",
       "      <th>maq_4</th>\n",
       "      <th>maq_5</th>\n",
       "      <th>peso</th>\n",
       "      <th>due_date</th>\n",
       "    </tr>\n",
       "  </thead>\n",
       "  <tbody>\n",
       "    <tr>\n",
       "      <th>0</th>\n",
       "      <td>1</td>\n",
       "      <td>2</td>\n",
       "      <td>1</td>\n",
       "      <td>4</td>\n",
       "      <td>7</td>\n",
       "      <td>8</td>\n",
       "      <td>8</td>\n",
       "      <td>6</td>\n",
       "    </tr>\n",
       "    <tr>\n",
       "      <th>1</th>\n",
       "      <td>2</td>\n",
       "      <td>8</td>\n",
       "      <td>3</td>\n",
       "      <td>2</td>\n",
       "      <td>1</td>\n",
       "      <td>5</td>\n",
       "      <td>5</td>\n",
       "      <td>6</td>\n",
       "    </tr>\n",
       "  </tbody>\n",
       "</table>\n",
       "</div>"
      ],
      "text/plain": [
       "   tarefa  maq_1  maq_2  maq_3  maq_4  maq_5  peso  due_date\n",
       "0       1      2      1      4      7      8     8         6\n",
       "1       2      8      3      2      1      5     5         6"
      ]
     },
     "execution_count": 32,
     "metadata": {},
     "output_type": "execute_result"
    }
   ],
   "source": [
    "url = \"https://raw.githubusercontent.com/LucasAzvd/teoria-da-decis-o/main/data/i5x25.csv?token=AI4MMZ5LFVT2YERE7VVKHHLBXKDD6\"\n",
    "df = pd.read_csv(url)\n",
    "df.head(2)"
   ]
  },
  {
   "cell_type": "markdown",
   "metadata": {
    "id": "5Qcuq60bcI4C",
    "tags": []
   },
   "source": [
    "# Funções objetivo\n",
    "\n",
    "## Min F1(x)\n",
    "\n",
    "\\begin{equation}\n",
    "minf_{1}(x)= C_{max} = max\\left (\\sum_{j=1}^{N}\\sum_{k=1}^{N} t_{ij}x_{ijk}  \\right )\\\\\n",
    "i\\epsilon\\left\\{ i,...,M \\right \\}\n",
    "\\end{equation}\n",
    "\n",
    "Essa função nos trás o tempo de execução máximo de uma máquina, somando todas as tarefas que foram executadas na mesma.   \n",
    "Seu retorno é representado pelo maior tempo de execução das máquinas e sua minimização "
   ]
  },
  {
   "cell_type": "code",
   "execution_count": 33,
   "metadata": {
    "ExecuteTime": {
     "end_time": "2021-12-12T04:29:27.440753Z",
     "start_time": "2021-12-12T04:29:27.420862Z"
    },
    "id": "IqeN-2pecI4D"
   },
   "outputs": [],
   "source": [
    "def min_f1(df_alocacao: pd.DataFrame) -> dict:\n",
    "    \"\"\"Minimizar o makespan, calculando o tempo de execução em todas as máquinas \n",
    "            e retornando a que mais demora\n",
    "    Args\n",
    "        df_alocacao[pd.DataFrame]: Dataframe com a alocação das máquinas\n",
    "    Returns:\n",
    "        int : O maior tempo de execução das máquinas\n",
    "    \"\"\"\n",
    "\n",
    "    tempo_maximo_atual = max(df_alocacao.iloc[:, 1:6].sum())\n",
    "    \n",
    "    return tempo_maximo_atual"
   ]
  },
  {
   "cell_type": "markdown",
   "metadata": {
    "id": "JtEmresZcI4E",
    "tags": []
   },
   "source": [
    "## Min F2(x)\n",
    "\n",
    "\\begin{equation}\n",
    "minf_{2}(x)= \\sum_{j=1}^{N} w_{j}t_{j}\n",
    "\\end{equation}\n",
    "\n",
    "Se refere a soma ponderada dos atrasos que ocorreram com a penalidade $W_{j}$."
   ]
  },
  {
   "cell_type": "code",
   "execution_count": 34,
   "metadata": {
    "ExecuteTime": {
     "end_time": "2021-12-12T04:29:27.670242Z",
     "start_time": "2021-12-12T04:29:27.653175Z"
    },
    "id": "ldSt5CIycI4E"
   },
   "outputs": [],
   "source": [
    "def min_f2(df_alocacao):\n",
    "    df_alocacao['penalidade'] = df_alocacao.iloc[:, 1:6].max(axis=1)\n",
    "    df_alocacao['penalidade'] = df_alocacao['penalidade'] - df_alocacao['due_date']\n",
    "    df_alocacao.loc[df_alocacao['penalidade'] < 0, 'penalidade'] = 0\n",
    "    df_alocacao['penalidade'] = df_alocacao['penalidade']*df_alocacao['peso']\n",
    "\n",
    "    penalidade = max(df_alocacao.drop(['tarefa', 'peso', 'due_date'], axis=1).sum())\n",
    "\n",
    "    return penalidade"
   ]
  },
  {
   "cell_type": "markdown",
   "metadata": {
    "id": "cvq-dEAEcI4F"
   },
   "source": [
    "## Restrições\n",
    "\n",
    "Iremos implementar as seguintes restrições na função abaixo:  \n",
    "`restricao_tarefas_maquinas`\n",
    "\\begin{equation}\n",
    " \\sum_{i=1}^{M}\\sum_{k=1}^{N+1} x_{ijk} = 1,\\forall j\\epsilon \\left \\{ 1,...,N \\right \\}\n",
    "\\end{equation}\n",
    "\n",
    "`restricao_tempo_máximo`\n",
    "\\begin{equation}\n",
    "C_{max}\\geq  \\sum_{i=1}^{M}\\sum_{k=1}^{N+1} t_{ij}x_{ijk},\\forall i\\epsilon \\left \\{ 1,...,M \\right \\}\n",
    "\\end{equation}\n",
    "\n",
    "Restrição redundante para o nosso código. Se trata de validar que um máquina pode ficar sem nenhuma tarefa atribuída.\n",
    "\\begin{equation}\n",
    "\\sum_{k=1}^{N} x_{i0k}\\leq 1,\\forall i\\epsilon \\left \\{ 1,...,M \\right \\}\n",
    "\\end{equation}\n",
    "\n",
    "Restrição redundante para o nosso código. Se trata de verificação de finalização de tarefas antes da atribuição a uma máquina.\n",
    "\\begin{equation}\n",
    "\\sum_{j=1,j\\neq h}^{N+1} x_{ijh} - \\sum_{k=1,k\\neq h}^{N+1} x_{ihk} = 0,\\forall h\\epsilon \\left \\{ 1,...,N \\right \\}e\\forall i\\epsilon \\left \\{ 1,...,M \\right \\}\n",
    "\\end{equation}\n",
    "\n",
    "Restrição redundante para o nosso código. Se trata se a tarefa está exutando uma tarefa ou não.\n",
    "\\begin{equation}\n",
    "C_{ik}\\geqslant C_{ij} - L + \\left ( t_{ij}+L \\right )x_{ijk},\\forall \\text{j e k}\\epsilon \\left \\{ 1,..,N \\right \\}\n",
    "\\end{equation}\n",
    "\n",
    "`restricao_tempo_atraso`\n",
    "\\begin{equation}\n",
    "T_{j}\\geq C_{j}-d,\\forall j\\epsilon \\left \\{ 1,...,N \\right \\}\n",
    "\\end{equation}\n",
    "\n",
    "Caso alguma restrição seja violada, retornamos **True**."
   ]
  },
  {
   "cell_type": "code",
   "execution_count": 35,
   "metadata": {
    "ExecuteTime": {
     "end_time": "2021-12-12T04:29:27.910703Z",
     "start_time": "2021-12-12T04:29:27.899130Z"
    },
    "id": "XOIFPyR1cI4G"
   },
   "outputs": [],
   "source": [
    "def restricao_tarefas_maquinas(df_alocacao: pd.DataFrame):\n",
    "    \"\"\"Cada tarefa deverá ir para uma máquina obrigatoriamente, garantindo que todas as tarefas sejam executadas.\n",
    "    Nela verificamos de existe alguma linha vazia no nosso dataframe de linhas de execução, que representaria uma tarefa sem alocar.\n",
    "    Também verificamos se as tarefas são alocadas apenas para uma máquina.\n",
    "    \"\"\"\n",
    "    soma_linhas_dataframe = df_alocacao.iloc[:, 1:6].nunique(axis=1)\n",
    "    for i in soma_linhas_dataframe:\n",
    "        if i != 2:  # Restricao violada\n",
    "            # print(\"Restrito: restricao_tarefas_maquinas\")\n",
    "            return True\n",
    "\n",
    "    return False"
   ]
  },
  {
   "cell_type": "code",
   "execution_count": 36,
   "metadata": {
    "ExecuteTime": {
     "end_time": "2021-12-12T04:29:28.010097Z",
     "start_time": "2021-12-12T04:29:27.993668Z"
    },
    "id": "fd2RIvqZcygG"
   },
   "outputs": [],
   "source": [
    "def restricao_tempo_maximo(df_alocacao: int, tempo_execucao_maquinas: list):\n",
    "    \"\"\"Nesta restrição garantimos que o tempo máximo de execução seja respeitado.\n",
    "    \"\"\"\n",
    "    for tempo_exec in np.array(df_alocacao.iloc[:,1:6].sum()):\n",
    "        if tempo_exec > tempo_execucao_maquinas: # Viola restrição\n",
    "            # print(\"Restrito: restricao_tempo_maximo\")\n",
    "            return True\n",
    "        else:\n",
    "            return False"
   ]
  },
  {
   "cell_type": "code",
   "execution_count": 37,
   "metadata": {
    "ExecuteTime": {
     "end_time": "2021-12-12T04:29:28.172720Z",
     "start_time": "2021-12-12T04:29:28.153398Z"
    },
    "id": "gK6Uul3ejxd_"
   },
   "outputs": [],
   "source": [
    "def restricao_tempo_atraso(df_alocacao: True):\n",
    "    \"\"\"Restrição referente ao tempo de atraso, ela delimita que o tempo de execução\n",
    "    da tarefa tem que ser limitado pelo tempo d definido.\"\"\"\n",
    "    df_aux = df_alocacao.copy()\n",
    "    df_aux['tempo_atraso'] = df_aux['due_date'] - df_alocacao.iloc[:, 1:6].max(axis=1)\n",
    "    \n",
    "    df_aux['restricao_atraso'] = df_aux['tempo_atraso'] - df_aux['due_date'] + df_alocacao.iloc[:, 1:6].max(axis=1)\n",
    "    if sum(df_aux['restricao_atraso']):\n",
    "        # print(\"Restrito: restricao_tempo_atraso\")\n",
    "        return True\n",
    "    else:\n",
    "        return False"
   ]
  },
  {
   "cell_type": "markdown",
   "metadata": {
    "id": "WhyJ7vM7vQiH"
   },
   "source": [
    "## Estrutura de vizinhança\n",
    "\n",
    "1.   Shift\n",
    "2.   Swtich\n",
    "3.   Swap\n",
    "4.   Two-Shift\n",
    "5.   Task-Move\n"
   ]
  },
  {
   "cell_type": "code",
   "execution_count": 38,
   "metadata": {
    "ExecuteTime": {
     "end_time": "2021-12-12T04:29:28.671955Z",
     "start_time": "2021-12-12T04:29:28.661348Z"
    },
    "id": "SKj8TIo1kGuq"
   },
   "outputs": [],
   "source": [
    "def swap(df_alocacao: pd.DataFrame, df: pd.DataFrame):\n",
    "    quant_tarefas = 25\n",
    "    quant_maquinas = 5\n",
    "    tarefa_swap_1 = random.randint(1, quant_tarefas)\n",
    "    if tarefa_swap_1 == quant_tarefas:\n",
    "        tarefa_swap_2 = tarefa_swap_1 - 1\n",
    "    else:\n",
    "        tarefa_swap_2 = tarefa_swap_1 + 1\n",
    "\n",
    "    tarefa_swap_1_list = df_alocacao[df_alocacao['tarefa']\n",
    "                                     == tarefa_swap_1].iloc[:, 1:6].values[0].copy()\n",
    "    tarefa_swap_2_list = df_alocacao[df_alocacao['tarefa']\n",
    "                                     == tarefa_swap_2].iloc[:, 1:6].values[0].copy()\n",
    "    for i in range(0, len(tarefa_swap_1_list)):\n",
    "        if tarefa_swap_1_list[i] > 0:\n",
    "            maq_1 = i+1\n",
    "            df_alocacao.loc[df_alocacao[\"tarefa\"]\n",
    "                            == tarefa_swap_1, f'maq_{i+1}'] = 0\n",
    "\n",
    "    for i in range(0, len(tarefa_swap_2_list)):\n",
    "        if tarefa_swap_2_list[i] > 0:\n",
    "            maq_2 = i+1\n",
    "            df_alocacao.loc[df_alocacao[\"tarefa\"] ==\n",
    "                            tarefa_swap_2, f'maq_{maq_2}'] = 0\n",
    "\n",
    "    df_alocacao.loc[df_alocacao[\"tarefa\"] == tarefa_swap_1,\n",
    "                    f'maq_{maq_2}'] = df[df[\"tarefa\"] == tarefa_swap_1][f'maq_{maq_2}']\n",
    "    df_alocacao.loc[df_alocacao[\"tarefa\"] == tarefa_swap_2,\n",
    "                    f'maq_{maq_1}'] = df[df[\"tarefa\"] == tarefa_swap_2][f'maq_{maq_1}']\n",
    "\n",
    "    return df_alocacao"
   ]
  },
  {
   "cell_type": "code",
   "execution_count": 39,
   "metadata": {
    "ExecuteTime": {
     "end_time": "2021-12-12T04:29:29.483838Z",
     "start_time": "2021-12-12T04:29:29.461223Z"
    },
    "id": "WA5IHxa1gQxO"
   },
   "outputs": [],
   "source": [
    "def task_move(df_alocacao: pd.DataFrame, df: pd.DataFrame):\n",
    "    quant_tarefas = 25\n",
    "    task_to_move = random.randint(1, quant_tarefas)\n",
    "\n",
    "    list_tasks = df_alocacao[df_alocacao['tarefa'] ==\n",
    "                             task_to_move].iloc[:, 1:6].values[0].copy()\n",
    "    for i in range(0, len(list_tasks)):\n",
    "        if list_tasks[i] > 0:\n",
    "            maq = i+1\n",
    "            df_alocacao.loc[df_alocacao[\"tarefa\"]\n",
    "                            == task_to_move, f'maq_{maq}'] = 0\n",
    "            if maq == 5:\n",
    "                df_alocacao.loc[df_alocacao[\"tarefa\"] == task_to_move,\n",
    "                                f'maq_{maq-1}'] = df[df['tarefa'] == task_to_move][f'maq_{maq-1}']\n",
    "            else:\n",
    "                df_alocacao.loc[df_alocacao[\"tarefa\"] == task_to_move,\n",
    "                                f'maq_{maq+1}'] = df[df['tarefa'] == task_to_move][f'maq_{maq+1}']\n",
    "            break\n",
    "\n",
    "    return df_alocacao"
   ]
  },
  {
   "cell_type": "code",
   "execution_count": 40,
   "metadata": {
    "ExecuteTime": {
     "end_time": "2021-12-12T04:29:30.022354Z",
     "start_time": "2021-12-12T04:29:30.007299Z"
    },
    "id": "WI-bT3TBfIwO"
   },
   "outputs": [],
   "source": [
    "def estruturas(df_alocacao, df, k):\n",
    "    if k==1:\n",
    "        df_alocacao_new = swap(df_alocacao, df)\n",
    "    else:\n",
    "        df_alocacao_new = task_move(df_alocacao, df)\n",
    "    return df_alocacao_new"
   ]
  },
  {
   "cell_type": "markdown",
   "metadata": {
    "id": "aQK2PeLhcI4B"
   },
   "source": [
    "## Variáveis"
   ]
  },
  {
   "cell_type": "code",
   "execution_count": 41,
   "metadata": {
    "ExecuteTime": {
     "end_time": "2021-12-12T04:29:31.127461Z",
     "start_time": "2021-12-12T04:29:31.119366Z"
    },
    "id": "PP_uEejrcI4C"
   },
   "outputs": [],
   "source": [
    "quant_maq = 5\n",
    "quant_tarefas = df.shape[0]"
   ]
  },
  {
   "cell_type": "markdown",
   "metadata": {
    "id": "hD365SrO51CP"
   },
   "source": [
    "Alocando as tarefas nas máquinas aleatóriamente"
   ]
  },
  {
   "cell_type": "code",
   "execution_count": 42,
   "metadata": {
    "ExecuteTime": {
     "end_time": "2021-12-12T04:29:32.602928Z",
     "start_time": "2021-12-12T04:29:32.585813Z"
    },
    "id": "Q0bqqsfC3F0F"
   },
   "outputs": [],
   "source": [
    "def aloca_tarefas(df_alocacao, quant_tarefas):\n",
    "    for i in range(0, quant_tarefas):\n",
    "        maq_aloc = random.randint(1,quant_maq)\n",
    "        while (df_alocacao[f'maq_{maq_aloc}'].nunique()-1)  == 5:\n",
    "            maq_aloc = random.randint(1,quant_maq)\n",
    "\n",
    "        # Pegando tarefa i e atribuindo o valor dela a maquina referente\n",
    "        df_alocacao.iloc[i][f'maq_{maq_aloc}'] = df[df['tarefa'] == i+1][f'maq_{maq_aloc}'].values[0]\n",
    "    return df_alocacao\n"
   ]
  },
  {
   "cell_type": "markdown",
   "metadata": {
    "id": "fyI17AJiKERn"
   },
   "source": [
    "Calculando a penalidade inicial da nossa alocação"
   ]
  },
  {
   "cell_type": "code",
   "execution_count": 43,
   "metadata": {
    "ExecuteTime": {
     "end_time": "2021-12-12T04:29:33.108751Z",
     "start_time": "2021-12-12T04:29:33.093024Z"
    },
    "id": "5z7MYo1jGRw9"
   },
   "outputs": [],
   "source": [
    "def calcula_penalidade(df_alocacao):\n",
    "    df_alocacao['penalidade'] = 0\n",
    "    df_alocacao['penalidade'] = df_alocacao.iloc[:, 1:6].max(axis=1)\n",
    "    df_alocacao['penalidade'] = df_alocacao['penalidade'] - df_alocacao['due_date']\n",
    "    df_alocacao.loc[df_alocacao['penalidade'] < 0, 'penalidade'] = 0\n",
    "    df_alocacao['penalidade'] = df_alocacao['penalidade']*df_alocacao['peso']\n",
    "    return df_alocacao"
   ]
  },
  {
   "cell_type": "code",
   "execution_count": 44,
   "metadata": {
    "ExecuteTime": {
     "end_time": "2021-12-12T04:29:34.610806Z",
     "start_time": "2021-12-12T04:29:34.594055Z"
    },
    "id": "WF7wkbQncI4H"
   },
   "outputs": [],
   "source": [
    "def gera_alocacao():\n",
    "    \"\"\"Gera alocação para as máquinas aleatoriamente\"\"\"\n",
    "    df_alocacao = df.copy()\n",
    "    df_alocacao['maq_1'] = 0\n",
    "    df_alocacao['maq_2'] = 0\n",
    "    df_alocacao['maq_3'] = 0\n",
    "    df_alocacao['maq_4'] = 0\n",
    "    df_alocacao['maq_5'] = 0\n",
    "    df_alocacao = aloca_tarefas(df_alocacao, quant_tarefas)\n",
    "    df_alocacao = calcula_penalidade(df_alocacao)\n",
    "    return df_alocacao"
   ]
  },
  {
   "cell_type": "markdown",
   "metadata": {},
   "source": [
    "## 1.6 Soma Ponderada\n",
    "\n",
    "Para aplicação da função de soma ponderada iremos realizar chamadas dos dois modelos de otimização simultaneamente, nisso aplicaremos um peso em cada e gerar o novo resultado. Nosso primeiro peso será 0.5(igual para amas funções) após ele iremos escolher aleatóriamente o valor dos pesos."
   ]
  },
  {
   "cell_type": "code",
   "execution_count": 46,
   "metadata": {
    "ExecuteTime": {
     "end_time": "2021-12-12T04:30:34.256885Z",
     "start_time": "2021-12-12T04:30:34.237896Z"
    }
   },
   "outputs": [],
   "source": [
    "def soma_ponderada(peso_1, peso_2, df_alocacao):\n",
    "    resultado = 0\n",
    "    tempo_maximo_execucao = min_f1(df_alocacao)\n",
    "    penalidade_maximo_execucao = min_f2(df_alocacao)\n",
    "    \n",
    "    tempo_maximo_execucao = tempo_maximo_execucao*peso_1\n",
    "    penalidade_maximo_execucao = penalidade_maximo_execucao*peso_2\n",
    "    \n",
    "    return tempo_maximo_execucao, penalidade_maximo_execucao"
   ]
  },
  {
   "cell_type": "markdown",
   "metadata": {
    "id": "BfJuPw--KMlN"
   },
   "source": [
    "# Execução do nosso algoritmo"
   ]
  },
  {
   "cell_type": "code",
   "execution_count": 47,
   "metadata": {
    "ExecuteTime": {
     "end_time": "2021-12-12T04:30:41.960755Z",
     "start_time": "2021-12-12T04:30:41.937346Z"
    }
   },
   "outputs": [],
   "source": [
    "def exec_algo(n_execucoes, n_epocas):\n",
    "    execucoes_dict = {}\n",
    "    peso_1 = 0.5 # Nossos primeiros pesos são iguais\n",
    "    peso_2 = 0.5\n",
    "    for n_exec in range(0, n_execucoes):\n",
    "        df_alocacao = gera_alocacao()\n",
    "\n",
    "        list_soma = {}\n",
    "        list_tempo_maximo = []\n",
    "        list_penalidade_inicial = [] \n",
    "        list_soma_resultante = []\n",
    "        \n",
    "        tempo_maximo, penalidade_inicial = soma_ponderada(peso_1, peso_2, df_alocacao)\n",
    "        soma_resultante = tempo_maximo + penalidade_inicial\n",
    "\n",
    "        k = 1\n",
    "        for epc in tqdm(range(0, n_epocas)):\n",
    "        # for epc in range(0, n_epocas):\n",
    "            # Gerando novos pesos aleatorios\n",
    "            peso_1 = random.uniform(0, 1)\n",
    "            peso_2 = 1 - peso_1 # A soma do peso 1 com o peso 2 é sempre 1\n",
    "            \n",
    "            soma_poderada_execucao = soma_resultante\n",
    "            tempo_maximo_execucao = tempo_maximo\n",
    "            \n",
    "            df_alocacao_new = df_alocacao.copy()\n",
    "            df_alocacao_new = estruturas(df_alocacao, df, k)\n",
    "            k=1\n",
    "            restricao_1 = restricao_tarefas_maquinas(df_alocacao_new)\n",
    "            restricao_2 = restricao_tempo_maximo(df_alocacao_new, tempo_maximo)\n",
    "            restricao_3 = restricao_tempo_atraso(df_alocacao_new)\n",
    "            if restricao_1 or restricao_2 or restricao_3:\n",
    "                # Se alguma restrição verdadeira, adicionamos os valores antigos a lista\n",
    "                list_tempo_maximo.append(tempo_maximo)\n",
    "                list_penalidade_inicial.append(penalidade_inicial)\n",
    "                list_soma_resultante.append(soma_resultante)\n",
    "                k=0\n",
    "\n",
    "            else:\n",
    "                tempo_maximo_execucao, penalidade_execucao = soma_ponderada(peso_1, peso_2, df_alocacao_new)\n",
    "                soma_poderada_execucao = tempo_maximo_execucao + penalidade_execucao\n",
    "\n",
    "                if soma_poderada_execucao < soma_resultante:\n",
    "                    # print(\"Otimizado\")\n",
    "                    soma_resultante = soma_poderada_execucao\n",
    "                    tempo_maximo = tempo_maximo_execucao\n",
    "                    penalidade_inicial = penalidade_execucao\n",
    "                    df_alocacao = df_alocacao_new.copy()\n",
    "                \n",
    "                list_tempo_maximo.append(tempo_maximo)\n",
    "                list_penalidade_inicial.append(penalidade_inicial)\n",
    "                list_soma_resultante.append(soma_resultante)\n",
    "\n",
    "        execucoes_dict[f'{n_exec+1}'] = {'tempo_maximo': list_tempo_maximo, \n",
    "                                           'penalidade_inicial': list_penalidade_inicial,\n",
    "                                           'soma_resultante': list_soma_resultante}\n",
    "\n",
    "    return execucoes_dict\n",
    "    "
   ]
  },
  {
   "cell_type": "code",
   "execution_count": 51,
   "metadata": {
    "ExecuteTime": {
     "end_time": "2021-12-12T04:34:42.312794Z",
     "start_time": "2021-12-12T04:33:15.608582Z"
    },
    "id": "-AcHJ7iecI4I"
   },
   "outputs": [
    {
     "name": "stderr",
     "output_type": "stream",
     "text": [
      "100%|████████████████████████████████████████████████████████████████████████████████| 100/100 [00:03<00:00, 25.29it/s]\n",
      "100%|████████████████████████████████████████████████████████████████████████████████| 100/100 [00:05<00:00, 17.69it/s]\n",
      "100%|████████████████████████████████████████████████████████████████████████████████| 100/100 [00:05<00:00, 18.42it/s]\n",
      "100%|████████████████████████████████████████████████████████████████████████████████| 100/100 [00:04<00:00, 23.05it/s]\n",
      "100%|████████████████████████████████████████████████████████████████████████████████| 100/100 [00:03<00:00, 26.97it/s]\n",
      "100%|████████████████████████████████████████████████████████████████████████████████| 100/100 [00:03<00:00, 27.65it/s]\n",
      "100%|████████████████████████████████████████████████████████████████████████████████| 100/100 [00:04<00:00, 21.81it/s]\n",
      "100%|████████████████████████████████████████████████████████████████████████████████| 100/100 [00:03<00:00, 26.73it/s]\n",
      "100%|████████████████████████████████████████████████████████████████████████████████| 100/100 [00:03<00:00, 29.82it/s]\n",
      "100%|████████████████████████████████████████████████████████████████████████████████| 100/100 [00:03<00:00, 26.25it/s]\n",
      "100%|████████████████████████████████████████████████████████████████████████████████| 100/100 [00:04<00:00, 22.79it/s]\n",
      "100%|████████████████████████████████████████████████████████████████████████████████| 100/100 [00:03<00:00, 25.26it/s]\n",
      "100%|████████████████████████████████████████████████████████████████████████████████| 100/100 [00:03<00:00, 25.02it/s]\n",
      "100%|████████████████████████████████████████████████████████████████████████████████| 100/100 [00:04<00:00, 20.44it/s]\n",
      "100%|████████████████████████████████████████████████████████████████████████████████| 100/100 [00:02<00:00, 38.23it/s]\n",
      "100%|████████████████████████████████████████████████████████████████████████████████| 100/100 [00:04<00:00, 20.09it/s]\n",
      "100%|████████████████████████████████████████████████████████████████████████████████| 100/100 [00:04<00:00, 22.21it/s]\n",
      "100%|████████████████████████████████████████████████████████████████████████████████| 100/100 [00:04<00:00, 21.03it/s]\n",
      "100%|████████████████████████████████████████████████████████████████████████████████| 100/100 [00:04<00:00, 23.67it/s]\n",
      "100%|████████████████████████████████████████████████████████████████████████████████| 100/100 [00:04<00:00, 22.54it/s]\n"
     ]
    }
   ],
   "source": [
    "n_epocas = 100\n",
    "n_execucoes = 20\n",
    "execucoes_dict = exec_algo(n_execucoes, n_epocas)"
   ]
  },
  {
   "cell_type": "code",
   "execution_count": null,
   "metadata": {},
   "outputs": [],
   "source": []
  },
  {
   "cell_type": "code",
   "execution_count": 52,
   "metadata": {
    "ExecuteTime": {
     "end_time": "2021-12-12T04:34:42.404019Z",
     "start_time": "2021-12-12T04:34:42.370942Z"
    }
   },
   "outputs": [
    {
     "name": "stdout",
     "output_type": "stream",
     "text": [
      "Para execução da soma ponderada temos o seguinte resultado:\n",
      "Para a execução 1 temos média:52.88, desvio padrão:0.49 e valor máximo:54.0\n",
      "Para a execução 2 temos média:43.77, desvio padrão:6.18 e valor máximo:54.62640342407464\n",
      "Para a execução 3 temos média:41.31, desvio padrão:3.31 e valor máximo:53.41853134215019\n",
      "Para a execução 4 temos média:53.44, desvio padrão:6.85 e valor máximo:68.25235323459569\n",
      "Para a execução 5 temos média:46.12, desvio padrão:5.56 e valor máximo:62.55201912463523\n",
      "Para a execução 6 temos média:38.03, desvio padrão:5.96 e valor máximo:76.1007427453984\n",
      "Para a execução 7 temos média:42.0, desvio padrão:3.19 e valor máximo:49.04272278631768\n",
      "Para a execução 8 temos média:59.95, desvio padrão:12.93 e valor máximo:90.38837467125174\n",
      "Para a execução 9 temos média:75.45, desvio padrão:30.9 e valor máximo:120.17345359132638\n",
      "Para a execução 10 temos média:60.23, desvio padrão:30.87 e valor máximo:119.55114752307263\n",
      "Para a execução 11 temos média:66.6, desvio padrão:19.25 e valor máximo:98.82607720839518\n",
      "Para a execução 12 temos média:105.7, desvio padrão:29.3 e valor máximo:151.23287255405913\n",
      "Para a execução 13 temos média:60.97, desvio padrão:24.13 e valor máximo:104.35158480292276\n",
      "Para a execução 14 temos média:45.52, desvio padrão:1.02 e valor máximo:47.842733894565484\n",
      "Para a execução 15 temos média:75.09, desvio padrão:0.0 e valor máximo:75.09131488498649\n",
      "Para a execução 16 temos média:52.14, desvio padrão:18.88 e valor máximo:105.832145179182\n",
      "Para a execução 17 temos média:46.84, desvio padrão:3.88 e valor máximo:59.95259097045832\n",
      "Para a execução 18 temos média:42.9, desvio padrão:10.1 e valor máximo:82.73158452185928\n",
      "Para a execução 19 temos média:46.29, desvio padrão:10.06 e valor máximo:71.74014316344908\n",
      "Para a execução 20 temos média:60.6, desvio padrão:7.71 e valor máximo:82.95653975532018\n"
     ]
    }
   ],
   "source": [
    "print(\"Para execução da soma ponderada temos o seguinte resultado:\")\n",
    "for i in execucoes_dict.keys():\n",
    "    media = np.mean(execucoes_dict[i]['soma_resultante'])\n",
    "    std = np.std(execucoes_dict[i]['soma_resultante'])\n",
    "    max_value = np.max(execucoes_dict[i]['soma_resultante'])\n",
    "    print(f\"Para a execução {i} temos média:{round(media, 2)}, desvio padrão:{round(std, 2)} e valor máximo:{max_value}\")"
   ]
  },
  {
   "cell_type": "code",
   "execution_count": 53,
   "metadata": {
    "ExecuteTime": {
     "end_time": "2021-12-12T04:34:43.337005Z",
     "start_time": "2021-12-12T04:34:42.447363Z"
    },
    "scrolled": false
   },
   "outputs": [
    {
     "data": {
      "image/png": "[encoded data removed]",
      "text/plain": [
       "<Figure size 1200x500 with 1 Axes>"
      ]
     },
     "metadata": {},
     "output_type": "display_data"
    }
   ],
   "source": [
    "import matplotlib.pyplot as plt\n",
    "\n",
    "plt.figure(figsize=(12,5))\n",
    "plt.plot(execucoes_dict['1']['soma_resultante'], label='Execução 1')\n",
    "plt.plot(execucoes_dict['2']['soma_resultante'], label='Execução 2')\n",
    "plt.plot(execucoes_dict['3']['soma_resultante'], label='Execução 3')\n",
    "plt.plot(execucoes_dict['4']['soma_resultante'], label='Execução 4')\n",
    "plt.plot(execucoes_dict['5']['soma_resultante'], label='Execução 5')\n",
    "\n",
    "plt.title(\"Soma Ponderada resultante em cada execução\")\n",
    "plt.ylabel(\"Valor da soma ponderada\")\n",
    "plt.legend()\n",
    "plt.show()"
   ]
  },
  {
   "cell_type": "code",
   "execution_count": null,
   "metadata": {},
   "outputs": [],
   "source": []
  },
  {
   "cell_type": "code",
   "execution_count": 54,
   "metadata": {
    "ExecuteTime": {
     "end_time": "2021-12-12T04:34:43.413148Z",
     "start_time": "2021-12-12T04:34:43.404190Z"
    }
   },
   "outputs": [],
   "source": [
    "ultima_exec = {}\n",
    "\n",
    "for i in execucoes_dict.keys():\n",
    "    ultima_exec[i] = {}\n",
    "\n",
    "for i in execucoes_dict.keys():\n",
    "    ultima_exec[i]['tempo_maximo'] = execucoes_dict[i]['tempo_maximo'][-1]\n",
    "    ultima_exec[i]['penalidade_inicial'] = execucoes_dict[i]['penalidade_inicial'][-1]\n",
    "    "
   ]
  },
  {
   "cell_type": "code",
   "execution_count": 55,
   "metadata": {
    "ExecuteTime": {
     "end_time": "2021-12-12T04:34:44.276811Z",
     "start_time": "2021-12-12T04:34:43.457335Z"
    }
   },
   "outputs": [
    {
     "data": {
      "image/png": "[encoded data removed]",
      "text/plain": [
       "<Figure size 1200x500 with 1 Axes>"
      ]
     },
     "metadata": {},
     "output_type": "display_data"
    }
   ],
   "source": [
    "import matplotlib.pyplot as plt\n",
    "\n",
    "plt.figure(figsize=(12,5))\n",
    "plt.scatter(ultima_exec['1']['tempo_maximo'], ultima_exec['1']['penalidade_inicial'], label='Execução 1')\n",
    "plt.scatter(ultima_exec['2']['tempo_maximo'], ultima_exec['2']['penalidade_inicial'], label='Execução 2')\n",
    "plt.scatter(ultima_exec['3']['tempo_maximo'], ultima_exec['3']['penalidade_inicial'], label='Execução 3')\n",
    "plt.scatter(ultima_exec['4']['tempo_maximo'], ultima_exec['4']['penalidade_inicial'], label='Execução 4')\n",
    "plt.scatter(ultima_exec['5']['tempo_maximo'], ultima_exec['5']['penalidade_inicial'], label='Execução 5')\n",
    "plt.scatter(ultima_exec['6']['tempo_maximo'], ultima_exec['6']['penalidade_inicial'], label='Execução 6')\n",
    "plt.scatter(ultima_exec['7']['tempo_maximo'], ultima_exec['7']['penalidade_inicial'], label='Execução 7')\n",
    "plt.scatter(ultima_exec['8']['tempo_maximo'], ultima_exec['8']['penalidade_inicial'], label='Execução 8')\n",
    "plt.scatter(ultima_exec['9']['tempo_maximo'], ultima_exec['9']['penalidade_inicial'], label='Execução 9')\n",
    "plt.scatter(ultima_exec['10']['tempo_maximo'], ultima_exec['10']['penalidade_inicial'], label='Execução 10')\n",
    "plt.scatter(ultima_exec['11']['tempo_maximo'], ultima_exec['11']['penalidade_inicial'], label='Execução 11')\n",
    "plt.scatter(ultima_exec['12']['tempo_maximo'], ultima_exec['12']['penalidade_inicial'], label='Execução 12')\n",
    "plt.scatter(ultima_exec['13']['tempo_maximo'], ultima_exec['13']['penalidade_inicial'], label='Execução 13')\n",
    "plt.scatter(ultima_exec['14']['tempo_maximo'], ultima_exec['14']['penalidade_inicial'], label='Execução 14')\n",
    "plt.scatter(ultima_exec['15']['tempo_maximo'], ultima_exec['15']['penalidade_inicial'], label='Execução 15')\n",
    "plt.scatter(ultima_exec['16']['tempo_maximo'], ultima_exec['16']['penalidade_inicial'], label='Execução 16')\n",
    "plt.scatter(ultima_exec['17']['tempo_maximo'], ultima_exec['17']['penalidade_inicial'], label='Execução 17')\n",
    "plt.scatter(ultima_exec['18']['tempo_maximo'], ultima_exec['18']['penalidade_inicial'], label='Execução 18')\n",
    "plt.scatter(ultima_exec['19']['tempo_maximo'], ultima_exec['19']['penalidade_inicial'], label='Execução 19')\n",
    "plt.scatter(ultima_exec['20']['tempo_maximo'], ultima_exec['20']['penalidade_inicial'], label='Execução 20')\n",
    "\n",
    "plt.title(\"Fronteira final das 20 execuções do algoritmo\")\n",
    "plt.ylabel(\"Penalidade final (f2)\")\n",
    "plt.ylabel(\"Tempo máximo final (f1)\")\n",
    "# plt.legend(loc = \"lower center\")\n",
    "plt.show()"
   ]
  },
  {
   "cell_type": "code",
   "execution_count": 56,
   "metadata": {
    "ExecuteTime": {
     "end_time": "2021-12-12T04:34:45.099485Z",
     "start_time": "2021-12-12T04:34:44.343618Z"
    }
   },
   "outputs": [
    {
     "data": {
      "image/png": "[encoded data removed]",
      "text/plain": [
       "<Figure size 1200x500 with 1 Axes>"
      ]
     },
     "metadata": {},
     "output_type": "display_data"
    }
   ],
   "source": [
    "import matplotlib.pyplot as plt\n",
    "\n",
    "plt.figure(figsize=(12,5))\n",
    "plt.scatter(execucoes_dict['1']['tempo_maximo'], execucoes_dict['1']['penalidade_inicial'], label='Execução 1')\n",
    "plt.scatter(execucoes_dict['2']['tempo_maximo'], execucoes_dict['2']['penalidade_inicial'], label='Execução 2')\n",
    "plt.scatter(execucoes_dict['3']['tempo_maximo'], execucoes_dict['3']['penalidade_inicial'], label='Execução 3')\n",
    "plt.scatter(execucoes_dict['4']['tempo_maximo'], execucoes_dict['4']['penalidade_inicial'], label='Execução 4')\n",
    "plt.scatter(execucoes_dict['5']['tempo_maximo'], execucoes_dict['5']['penalidade_inicial'], label='Execução 5')\n",
    "\n",
    "plt.title(\"Tempo de execução das tarefas com F1 de otimização\")\n",
    "plt.ylabel(\"Penalidade final (f2)\")\n",
    "plt.ylabel(\"Tempo máximo final (f1)\")\n",
    "plt.legend()\n",
    "plt.show()"
   ]
  },
  {
   "cell_type": "code",
   "execution_count": 58,
   "metadata": {
    "ExecuteTime": {
     "end_time": "2021-12-12T04:35:43.058532Z",
     "start_time": "2021-12-12T04:35:42.525937Z"
    },
    "code_folding": []
   },
   "outputs": [
    {
     "data": {
      "image/png": "[encoded data removed]",
      "text/plain": [
       "<Figure size 640x480 with 1 Axes>"
      ]
     },
     "metadata": {},
     "output_type": "display_data"
    }
   ],
   "source": [
    "import seaborn as sns\n",
    "sns.scatterplot(\n",
    "    data=execucoes_dict['1'], x=\"tempo_maximo\", y=\"penalidade_inicial\",\n",
    "    sizes=(20, 200), hue_norm=(0, 7), legend=\"full\"\n",
    ")\n",
    "plt.show()"
   ]
  },
  {
   "cell_type": "code",
   "execution_count": null,
   "metadata": {},
   "outputs": [],
   "source": []
  },
  {
   "cell_type": "code",
   "execution_count": null,
   "metadata": {},
   "outputs": [],
   "source": []
  }
 ],
 "metadata": {
  "colab": {
   "collapsed_sections": [],
   "name": "main.ipynb",
   "provenance": []
  },
  "kernelspec": {
   "display_name": "Python 3",
   "language": "python",
   "name": "python3"
  },
  "language_info": {
   "codemirror_mode": {
    "name": "ipython",
    "version": 3
   },
   "file_extension": ".py",
   "mimetype": "text/x-python",
   "name": "python",
   "nbconvert_exporter": "python",
   "pygments_lexer": "ipython3",
   "version": "3.8.11"
  },
  "latex_envs": {
   "LaTeX_envs_menu_present": true,
   "autoclose": false,
   "autocomplete": true,
   "bibliofile": "biblio.bib",
   "cite_by": "apalike",
   "current_citInitial": 1,
   "eqLabelWithNumbers": true,
   "eqNumInitial": 1,
   "hotkeys": {
    "equation": "Ctrl-E",
    "itemize": "Ctrl-I"
   },
   "labels_anchors": false,
   "latex_user_defs": false,
   "report_style_numbering": false,
   "user_envs_cfg": false
  },
  "toc": {
   "base_numbering": 1,
   "nav_menu": {},
   "number_sections": true,
   "sideBar": true,
   "skip_h1_title": false,
   "title_cell": "Table of Contents",
   "title_sidebar": "Contents",
   "toc_cell": false,
   "toc_position": {},
   "toc_section_display": true,
   "toc_window_display": false
  },
  "varInspector": {
   "cols": {
    "lenName": 16,
    "lenType": 16,
    "lenVar": 40
   },
   "kernels_config": {
    "python": {
     "delete_cmd_postfix": "",
     "delete_cmd_prefix": "del ",
     "library": "var_list.py",
     "varRefreshCmd": "print(var_dic_list())"
    },
    "r": {
     "delete_cmd_postfix": ") ",
     "delete_cmd_prefix": "rm(",
     "library": "var_list.r",
     "varRefreshCmd": "cat(var_dic_list()) "
    }
   },
   "types_to_exclude": [
    "module",
    "function",
    "builtin_function_or_method",
    "instance",
    "_Feature"
   ],
   "window_display": false
  }
 },
 "nbformat": 4,
 "nbformat_minor": 1
}

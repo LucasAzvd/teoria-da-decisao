{
 "cells": [
  {
   "cell_type": "code",
   "execution_count": 1,
   "metadata": {
    "ExecuteTime": {
     "end_time": "2021-12-12T21:25:30.552143Z",
     "start_time": "2021-12-12T21:25:30.208114Z"
    },
    "id": "ekGmyEEscI37"
   },
   "outputs": [],
   "source": [
    "import pandas as pd\n",
    "import numpy as np\n",
    "np.random.seed(42)\n",
    "import json\n",
    "import random\n",
    "\n",
    "from tqdm import tqdm"
   ]
  },
  {
   "cell_type": "markdown",
   "metadata": {
    "id": "thXHPbI-cI3-",
    "tags": []
   },
   "source": [
    "Arquivo csv adaptado para diminuir trabalho com tratamento de dados"
   ]
  },
  {
   "cell_type": "code",
   "execution_count": 2,
   "metadata": {
    "ExecuteTime": {
     "end_time": "2021-12-12T21:25:32.189382Z",
     "start_time": "2021-12-12T21:25:31.799445Z"
    },
    "colab": {
     "base_uri": "https://localhost:8080/",
     "height": 112
    },
    "id": "zyIZ00JHcI4A",
    "outputId": "9ed1cc69-f9ca-483b-cbc8-799960ee7c74",
    "scrolled": true
   },
   "outputs": [
    {
     "data": {
      "text/html": [
       "<div>\n",
       "<style scoped>\n",
       "    .dataframe tbody tr th:only-of-type {\n",
       "        vertical-align: middle;\n",
       "    }\n",
       "\n",
       "    .dataframe tbody tr th {\n",
       "        vertical-align: top;\n",
       "    }\n",
       "\n",
       "    .dataframe thead th {\n",
       "        text-align: right;\n",
       "    }\n",
       "</style>\n",
       "<table border=\"1\" class=\"dataframe\">\n",
       "  <thead>\n",
       "    <tr style=\"text-align: right;\">\n",
       "      <th></th>\n",
       "      <th>tarefa</th>\n",
       "      <th>maq_1</th>\n",
       "      <th>maq_2</th>\n",
       "      <th>maq_3</th>\n",
       "      <th>maq_4</th>\n",
       "      <th>maq_5</th>\n",
       "      <th>peso</th>\n",
       "      <th>due_date</th>\n",
       "    </tr>\n",
       "  </thead>\n",
       "  <tbody>\n",
       "    <tr>\n",
       "      <th>0</th>\n",
       "      <td>1</td>\n",
       "      <td>2</td>\n",
       "      <td>1</td>\n",
       "      <td>4</td>\n",
       "      <td>7</td>\n",
       "      <td>8</td>\n",
       "      <td>8</td>\n",
       "      <td>6</td>\n",
       "    </tr>\n",
       "    <tr>\n",
       "      <th>1</th>\n",
       "      <td>2</td>\n",
       "      <td>8</td>\n",
       "      <td>3</td>\n",
       "      <td>2</td>\n",
       "      <td>1</td>\n",
       "      <td>5</td>\n",
       "      <td>5</td>\n",
       "      <td>6</td>\n",
       "    </tr>\n",
       "  </tbody>\n",
       "</table>\n",
       "</div>"
      ],
      "text/plain": [
       "   tarefa  maq_1  maq_2  maq_3  maq_4  maq_5  peso  due_date\n",
       "0       1      2      1      4      7      8     8         6\n",
       "1       2      8      3      2      1      5     5         6"
      ]
     },
     "execution_count": 2,
     "metadata": {},
     "output_type": "execute_result"
    }
   ],
   "source": [
    "url = \"https://raw.githubusercontent.com/LucasAzvd/teoria-da-decis-o/main/data/i5x25.csv?token=AI4MMZ5LFVT2YERE7VVKHHLBXKDD6\"\n",
    "df = pd.read_csv(url)\n",
    "df.head(2)"
   ]
  },
  {
   "cell_type": "markdown",
   "metadata": {
    "id": "5Qcuq60bcI4C",
    "tags": []
   },
   "source": [
    "# Funções objetivo\n",
    "\n",
    "## Min F1(x)\n",
    "\n",
    "\\begin{equation}\n",
    "minf_{1}(x)= C_{max} = max\\left (\\sum_{j=1}^{N}\\sum_{k=1}^{N} t_{ij}x_{ijk}  \\right )\\\\\n",
    "i\\epsilon\\left\\{ i,...,M \\right \\}\n",
    "\\end{equation}\n",
    "\n",
    "Essa função nos trás o tempo de execução máximo de uma máquina, somando todas as tarefas que foram executadas na mesma.   \n",
    "Seu retorno é representado pelo maior tempo de execução das máquinas e sua minimização "
   ]
  },
  {
   "cell_type": "markdown",
   "metadata": {},
   "source": [
    "Transforma essa função objetivo em restrição temos:\n",
    "\n",
    "\\begin{equation}\n",
    "max\\left (\\sum_{j=1}^{N}\\sum_{k=1}^{N} t_{ij}x_{ijk}  \\right )\\leq \\epsilon \\\\\n",
    "\\end{equation}"
   ]
  },
  {
   "cell_type": "code",
   "execution_count": 3,
   "metadata": {
    "ExecuteTime": {
     "end_time": "2021-12-12T21:25:32.235386Z",
     "start_time": "2021-12-12T21:25:32.221384Z"
    },
    "id": "IqeN-2pecI4D"
   },
   "outputs": [],
   "source": [
    "def min_f1_restricao(df_alocacao: pd.DataFrame, epsilon: int) -> dict:\n",
    "    \"\"\"Minimizar o makespan, calculando o tempo de execução em todas as máquinas \n",
    "            e retornando a que mais demora\n",
    "    Args\n",
    "        df_alocacao[pd.DataFrame]: Dataframe com a alocação das máquinas\n",
    "        epsilon[int]: Valor do ∈-restrito no nosso código\n",
    "    Returns:\n",
    "        int : O maior tempo de execução das máquinas\n",
    "    \"\"\"\n",
    "\n",
    "    tempo_maximo_atual = max(df_alocacao.iloc[:, 1:6].sum())\n",
    "    if tempo_maximo_atual > epsilon: # True para restricao violada\n",
    "        return True\n",
    "    return False"
   ]
  },
  {
   "cell_type": "markdown",
   "metadata": {
    "id": "JtEmresZcI4E",
    "tags": []
   },
   "source": [
    "## Min F2(x)\n",
    "\n",
    "\\begin{equation}\n",
    "minf_{2}(x)= \\sum_{j=1}^{N} w_{j}t_{j}\n",
    "\\end{equation}\n",
    "\n",
    "Se refere a soma ponderada dos atrasos que ocorreram com a penalidade $W_{j}$."
   ]
  },
  {
   "cell_type": "code",
   "execution_count": 4,
   "metadata": {
    "ExecuteTime": {
     "end_time": "2021-12-12T21:25:32.592384Z",
     "start_time": "2021-12-12T21:25:32.585385Z"
    },
    "id": "ldSt5CIycI4E"
   },
   "outputs": [],
   "source": [
    "def min_f2(df_alocacao):\n",
    "    df_alocacao['penalidade'] = df_alocacao.iloc[:, 1:6].max(axis=1)\n",
    "    df_alocacao['penalidade'] = df_alocacao['penalidade'] - df_alocacao['due_date']\n",
    "    df_alocacao.loc[df_alocacao['penalidade'] < 0, 'penalidade'] = 0\n",
    "    df_alocacao['penalidade'] = df_alocacao['penalidade']*df_alocacao['peso']\n",
    "\n",
    "    penalidade = max(df_alocacao.drop(['tarefa', 'peso', 'due_date'], axis=1).sum())\n",
    "\n",
    "    return penalidade"
   ]
  },
  {
   "cell_type": "markdown",
   "metadata": {
    "id": "cvq-dEAEcI4F"
   },
   "source": [
    "## Restrições\n",
    "\n",
    "Iremos implementar as seguintes restrições na função abaixo:  \n",
    "`restricao_tarefas_maquinas`\n",
    "\\begin{equation}\n",
    " \\sum_{i=1}^{M}\\sum_{k=1}^{N+1} x_{ijk} = 1,\\forall j\\epsilon \\left \\{ 1,...,N \\right \\}\n",
    "\\end{equation}\n",
    "\n",
    "`restricao_tempo_máximo`\n",
    "\\begin{equation}\n",
    "C_{max}\\geq  \\sum_{i=1}^{M}\\sum_{k=1}^{N+1} t_{ij}x_{ijk},\\forall i\\epsilon \\left \\{ 1,...,M \\right \\}\n",
    "\\end{equation}\n",
    "\n",
    "Restrição redundante para o nosso código. Se trata de validar que um máquina pode ficar sem nenhuma tarefa atribuída.\n",
    "\\begin{equation}\n",
    "\\sum_{k=1}^{N} x_{i0k}\\leq 1,\\forall i\\epsilon \\left \\{ 1,...,M \\right \\}\n",
    "\\end{equation}\n",
    "\n",
    "Restrição redundante para o nosso código. Se trata de verificação de finalização de tarefas antes da atribuição a uma máquina.\n",
    "\\begin{equation}\n",
    "\\sum_{j=1,j\\neq h}^{N+1} x_{ijh} - \\sum_{k=1,k\\neq h}^{N+1} x_{ihk} = 0,\\forall h\\epsilon \\left \\{ 1,...,N \\right \\}e\\forall i\\epsilon \\left \\{ 1,...,M \\right \\}\n",
    "\\end{equation}\n",
    "\n",
    "Restrição redundante para o nosso código. Se trata se a tarefa está exutando uma tarefa ou não.\n",
    "\\begin{equation}\n",
    "C_{ik}\\geqslant C_{ij} - L + \\left ( t_{ij}+L \\right )x_{ijk},\\forall \\text{j e k}\\epsilon \\left \\{ 1,..,N \\right \\}\n",
    "\\end{equation}\n",
    "\n",
    "`restricao_tempo_atraso`\n",
    "\\begin{equation}\n",
    "T_{j}\\geq C_{j}-d,\\forall j\\epsilon \\left \\{ 1,...,N \\right \\}\n",
    "\\end{equation}\n",
    "\n",
    "Caso alguma restrição seja violada, retornamos **True**."
   ]
  },
  {
   "cell_type": "code",
   "execution_count": 5,
   "metadata": {
    "ExecuteTime": {
     "end_time": "2021-12-12T21:25:32.981371Z",
     "start_time": "2021-12-12T21:25:32.966335Z"
    },
    "id": "XOIFPyR1cI4G"
   },
   "outputs": [],
   "source": [
    "def restricao_tarefas_maquinas(df_alocacao: pd.DataFrame):\n",
    "    \"\"\"Cada tarefa deverá ir para uma máquina obrigatoriamente, garantindo que todas as tarefas sejam executadas.\n",
    "    Nela verificamos de existe alguma linha vazia no nosso dataframe de linhas de execução, que representaria uma tarefa sem alocar.\n",
    "    Também verificamos se as tarefas são alocadas apenas para uma máquina.\n",
    "    \"\"\"\n",
    "    soma_linhas_dataframe = df_alocacao.iloc[:, 1:6].nunique(axis=1)\n",
    "    for i in soma_linhas_dataframe:\n",
    "        if i != 2:  # Restricao violada\n",
    "            # print(\"Restrito: restricao_tarefas_maquinas\")\n",
    "            return True\n",
    "\n",
    "    return False"
   ]
  },
  {
   "cell_type": "code",
   "execution_count": 6,
   "metadata": {
    "ExecuteTime": {
     "end_time": "2021-12-12T21:25:33.168451Z",
     "start_time": "2021-12-12T21:25:33.159451Z"
    },
    "id": "fd2RIvqZcygG"
   },
   "outputs": [],
   "source": [
    "def restricao_tempo_maximo(df_alocacao: int, tempo_execucao_maquinas: list):\n",
    "    \"\"\"Nesta restrição garantimos que o tempo máximo de execução seja respeitado.\n",
    "    \"\"\"\n",
    "    for tempo_exec in np.array(df_alocacao.iloc[:,1:6].sum()):\n",
    "        if tempo_exec > tempo_execucao_maquinas: # Viola restrição\n",
    "            # print(\"Restrito: restricao_tempo_maximo\")\n",
    "            return True\n",
    "        else:\n",
    "            return False"
   ]
  },
  {
   "cell_type": "code",
   "execution_count": 7,
   "metadata": {
    "ExecuteTime": {
     "end_time": "2021-12-12T21:25:33.357452Z",
     "start_time": "2021-12-12T21:25:33.350452Z"
    },
    "id": "gK6Uul3ejxd_"
   },
   "outputs": [],
   "source": [
    "def restricao_tempo_atraso(df_alocacao: True):\n",
    "    \"\"\"Restrição referente ao tempo de atraso, ela delimita que o tempo de execução\n",
    "    da tarefa tem que ser limitado pelo tempo d definido.\"\"\"\n",
    "    df_aux = df_alocacao.copy()\n",
    "    df_aux['tempo_atraso'] = df_aux['due_date'] - df_alocacao.iloc[:, 1:6].max(axis=1)\n",
    "    \n",
    "    df_aux['restricao_atraso'] = df_aux['tempo_atraso'] - df_aux['due_date'] + df_alocacao.iloc[:, 1:6].max(axis=1)\n",
    "    if sum(df_aux['restricao_atraso']):\n",
    "        # print(\"Restrito: restricao_tempo_atraso\")\n",
    "        return True\n",
    "    else:\n",
    "        return False"
   ]
  },
  {
   "cell_type": "markdown",
   "metadata": {
    "id": "WhyJ7vM7vQiH"
   },
   "source": [
    "## Estrutura de vizinhança\n",
    "\n",
    "1.   Shift\n",
    "2.   Swtich\n",
    "3.   Swap\n",
    "4.   Two-Shift\n",
    "5.   Task-Move\n"
   ]
  },
  {
   "cell_type": "code",
   "execution_count": 8,
   "metadata": {
    "ExecuteTime": {
     "end_time": "2021-12-12T21:25:33.746481Z",
     "start_time": "2021-12-12T21:25:33.732452Z"
    },
    "id": "SKj8TIo1kGuq"
   },
   "outputs": [],
   "source": [
    "def swap(df_alocacao: pd.DataFrame, df: pd.DataFrame):\n",
    "    quant_tarefas = 25\n",
    "    quant_maquinas = 5\n",
    "    tarefa_swap_1 = random.randint(1, quant_tarefas)\n",
    "    if tarefa_swap_1 == quant_tarefas:\n",
    "        tarefa_swap_2 = tarefa_swap_1 - 1\n",
    "    else:\n",
    "        tarefa_swap_2 = tarefa_swap_1 + 1\n",
    "\n",
    "    tarefa_swap_1_list = df_alocacao[df_alocacao['tarefa']\n",
    "                                     == tarefa_swap_1].iloc[:, 1:6].values[0].copy()\n",
    "    tarefa_swap_2_list = df_alocacao[df_alocacao['tarefa']\n",
    "                                     == tarefa_swap_2].iloc[:, 1:6].values[0].copy()\n",
    "    for i in range(0, len(tarefa_swap_1_list)):\n",
    "        if tarefa_swap_1_list[i] > 0:\n",
    "            maq_1 = i+1\n",
    "            df_alocacao.loc[df_alocacao[\"tarefa\"]\n",
    "                            == tarefa_swap_1, f'maq_{i+1}'] = 0\n",
    "\n",
    "    for i in range(0, len(tarefa_swap_2_list)):\n",
    "        if tarefa_swap_2_list[i] > 0:\n",
    "            maq_2 = i+1\n",
    "            df_alocacao.loc[df_alocacao[\"tarefa\"] ==\n",
    "                            tarefa_swap_2, f'maq_{maq_2}'] = 0\n",
    "\n",
    "    df_alocacao.loc[df_alocacao[\"tarefa\"] == tarefa_swap_1,\n",
    "                    f'maq_{maq_2}'] = df[df[\"tarefa\"] == tarefa_swap_1][f'maq_{maq_2}']\n",
    "    df_alocacao.loc[df_alocacao[\"tarefa\"] == tarefa_swap_2,\n",
    "                    f'maq_{maq_1}'] = df[df[\"tarefa\"] == tarefa_swap_2][f'maq_{maq_1}']\n",
    "\n",
    "    return df_alocacao"
   ]
  },
  {
   "cell_type": "code",
   "execution_count": 9,
   "metadata": {
    "ExecuteTime": {
     "end_time": "2021-12-12T21:25:33.920307Z",
     "start_time": "2021-12-12T21:25:33.912310Z"
    },
    "id": "WA5IHxa1gQxO"
   },
   "outputs": [],
   "source": [
    "def task_move(df_alocacao: pd.DataFrame, df: pd.DataFrame):\n",
    "    quant_tarefas = 25\n",
    "    task_to_move = random.randint(1, quant_tarefas)\n",
    "\n",
    "    list_tasks = df_alocacao[df_alocacao['tarefa'] ==\n",
    "                             task_to_move].iloc[:, 1:6].values[0].copy()\n",
    "    for i in range(0, len(list_tasks)):\n",
    "        if list_tasks[i] > 0:\n",
    "            maq = i+1\n",
    "            df_alocacao.loc[df_alocacao[\"tarefa\"]\n",
    "                            == task_to_move, f'maq_{maq}'] = 0\n",
    "            if maq == 5:\n",
    "                df_alocacao.loc[df_alocacao[\"tarefa\"] == task_to_move,\n",
    "                                f'maq_{maq-1}'] = df[df['tarefa'] == task_to_move][f'maq_{maq-1}']\n",
    "            else:\n",
    "                df_alocacao.loc[df_alocacao[\"tarefa\"] == task_to_move,\n",
    "                                f'maq_{maq+1}'] = df[df['tarefa'] == task_to_move][f'maq_{maq+1}']\n",
    "            break\n",
    "\n",
    "    return df_alocacao"
   ]
  },
  {
   "cell_type": "code",
   "execution_count": 10,
   "metadata": {
    "ExecuteTime": {
     "end_time": "2021-12-12T21:25:34.092273Z",
     "start_time": "2021-12-12T21:25:34.081272Z"
    },
    "id": "WI-bT3TBfIwO"
   },
   "outputs": [],
   "source": [
    "def estruturas(df_alocacao, df, k):\n",
    "    if k==1:\n",
    "        df_alocacao_new = swap(df_alocacao, df)\n",
    "    else:\n",
    "        df_alocacao_new = task_move(df_alocacao, df)\n",
    "    return df_alocacao_new"
   ]
  },
  {
   "cell_type": "markdown",
   "metadata": {
    "id": "aQK2PeLhcI4B"
   },
   "source": [
    "## Variáveis"
   ]
  },
  {
   "cell_type": "code",
   "execution_count": 11,
   "metadata": {
    "ExecuteTime": {
     "end_time": "2021-12-12T21:25:34.439728Z",
     "start_time": "2021-12-12T21:25:34.430731Z"
    },
    "id": "PP_uEejrcI4C"
   },
   "outputs": [],
   "source": [
    "quant_maq = 5\n",
    "quant_tarefas = df.shape[0]"
   ]
  },
  {
   "cell_type": "markdown",
   "metadata": {
    "id": "hD365SrO51CP"
   },
   "source": [
    "Alocando as tarefas nas máquinas aleatóriamente"
   ]
  },
  {
   "cell_type": "code",
   "execution_count": 12,
   "metadata": {
    "ExecuteTime": {
     "end_time": "2021-12-12T21:25:34.786086Z",
     "start_time": "2021-12-12T21:25:34.782075Z"
    },
    "id": "Q0bqqsfC3F0F"
   },
   "outputs": [],
   "source": [
    "def aloca_tarefas(df_alocacao, quant_tarefas):\n",
    "    for i in range(0, quant_tarefas):\n",
    "        maq_aloc = random.randint(1,quant_maq)\n",
    "        while (df_alocacao[f'maq_{maq_aloc}'].nunique()-1)  == 5:\n",
    "            maq_aloc = random.randint(1,quant_maq)\n",
    "\n",
    "        # Pegando tarefa i e atribuindo o valor dela a maquina referente\n",
    "        df_alocacao.iloc[i][f'maq_{maq_aloc}'] = df[df['tarefa'] == i+1][f'maq_{maq_aloc}'].values[0]\n",
    "    return df_alocacao\n"
   ]
  },
  {
   "cell_type": "markdown",
   "metadata": {
    "id": "fyI17AJiKERn"
   },
   "source": [
    "Calculando a penalidade inicial da nossa alocação"
   ]
  },
  {
   "cell_type": "code",
   "execution_count": 13,
   "metadata": {
    "ExecuteTime": {
     "end_time": "2021-12-12T21:25:35.149126Z",
     "start_time": "2021-12-12T21:25:35.143170Z"
    },
    "id": "5z7MYo1jGRw9"
   },
   "outputs": [],
   "source": [
    "def calcula_penalidade(df_alocacao):\n",
    "    df_alocacao['penalidade'] = 0\n",
    "    df_alocacao['penalidade'] = df_alocacao.iloc[:, 1:6].max(axis=1)\n",
    "    df_alocacao['penalidade'] = df_alocacao['penalidade'] - df_alocacao['due_date']\n",
    "    df_alocacao.loc[df_alocacao['penalidade'] < 0, 'penalidade'] = 0\n",
    "    df_alocacao['penalidade'] = df_alocacao['penalidade']*df_alocacao['peso']\n",
    "    return df_alocacao"
   ]
  },
  {
   "cell_type": "code",
   "execution_count": 14,
   "metadata": {
    "ExecuteTime": {
     "end_time": "2021-12-12T21:25:35.341183Z",
     "start_time": "2021-12-12T21:25:35.325124Z"
    },
    "id": "WF7wkbQncI4H"
   },
   "outputs": [],
   "source": [
    "def gera_alocacao():\n",
    "    \"\"\"Gera alocação para as máquinas aleatoriamente\"\"\"\n",
    "    df_alocacao = df.copy()\n",
    "    df_alocacao['maq_1'] = 0\n",
    "    df_alocacao['maq_2'] = 0\n",
    "    df_alocacao['maq_3'] = 0\n",
    "    df_alocacao['maq_4'] = 0\n",
    "    df_alocacao['maq_5'] = 0\n",
    "    df_alocacao = aloca_tarefas(df_alocacao, quant_tarefas)\n",
    "    df_alocacao = calcula_penalidade(df_alocacao)\n",
    "    return df_alocacao"
   ]
  },
  {
   "cell_type": "markdown",
   "metadata": {
    "id": "BfJuPw--KMlN"
   },
   "source": [
    "# Execução do nosso algoritmo"
   ]
  },
  {
   "cell_type": "code",
   "execution_count": 16,
   "metadata": {
    "ExecuteTime": {
     "end_time": "2021-12-12T21:25:36.003163Z",
     "start_time": "2021-12-12T21:25:35.996126Z"
    }
   },
   "outputs": [],
   "source": [
    "def exec_algo(n_execucoes, n_epocas, epsilon, dict_results):\n",
    "\n",
    "    for n_exec in range(0, n_execucoes):\n",
    "        df_alocacao = gera_alocacao()\n",
    "        penalidade_maximo = max(df_alocacao.drop(['tarefa', 'peso', 'due_date'], axis=1).sum())\n",
    "\n",
    "        list_penalidades = []\n",
    "        list_penalidades.append(penalidade_maximo)\n",
    "\n",
    "        k = 1\n",
    "        for epc in tqdm(range(0, n_epocas)):\n",
    "        # for epc in range(0, n_epocas):\n",
    "            penalidade_maximo_execucao = penalidade_maximo\n",
    "\n",
    "            df_alocacao_new = df_alocacao.copy()\n",
    "            df_alocacao_new = estruturas(df_alocacao, df, k)\n",
    "            k=1\n",
    "            restricao_1 = restricao_tarefas_maquinas(df_alocacao_new)\n",
    "            restricao_2 = restricao_tempo_maximo(df_alocacao_new, penalidade_maximo_execucao)\n",
    "            restricao_3 = restricao_tempo_atraso(df_alocacao_new)\n",
    "            restricao_f1 = min_f1_restricao(df_alocacao_new, epsilon) # Ajusta o valor de epsilon\n",
    "            if restricao_1 or restricao_2 or restricao_3 or restricao_f1:\n",
    "                # Se alguma restrição verdadeira, adicionamos os valores antigos a lista\n",
    "                list_penalidades.append(penalidade_maximo)\n",
    "                k=0 # Troca do método\n",
    "\n",
    "            else:\n",
    "                penalidade_maximo_execucao = min_f2(df_alocacao_new)\n",
    "\n",
    "                if penalidade_maximo_execucao < penalidade_maximo:\n",
    "                    penalidade_maximo = penalidade_maximo_execucao\n",
    "                    df_alocacao = df_alocacao_new.copy()\n",
    "\n",
    "                list_penalidades.append(penalidade_maximo)\n",
    "        dict_results[f\"epsilon_{epsilon}\"] = list_penalidades\n",
    "\n",
    "    return dict_results\n",
    "    "
   ]
  },
  {
   "cell_type": "markdown",
   "metadata": {},
   "source": [
    "Os valores para epsilon foram extraídos da execução do algoritmo no TC 02, sendo do maior valor (restrição mais fraca, até o melhor ótimo)"
   ]
  },
  {
   "cell_type": "code",
   "execution_count": 17,
   "metadata": {
    "ExecuteTime": {
     "end_time": "2021-12-12T21:25:46.909022Z",
     "start_time": "2021-12-12T21:25:36.389345Z"
    },
    "id": "-AcHJ7iecI4I"
   },
   "outputs": [
    {
     "name": "stderr",
     "output_type": "stream",
     "text": [
      "100%|████████████████████████████████████████████████████████████████████████████████| 100/100 [00:02<00:00, 49.90it/s]\n",
      "100%|████████████████████████████████████████████████████████████████████████████████| 100/100 [00:02<00:00, 44.48it/s]\n",
      "100%|████████████████████████████████████████████████████████████████████████████████| 100/100 [00:02<00:00, 46.13it/s]\n",
      "100%|████████████████████████████████████████████████████████████████████████████████| 100/100 [00:02<00:00, 40.90it/s]\n",
      "100%|████████████████████████████████████████████████████████████████████████████████| 100/100 [00:01<00:00, 69.54it/s]\n"
     ]
    }
   ],
   "source": [
    "n_epocas = 100\n",
    "n_execucoes = 1\n",
    "execucoes_dict = {}\n",
    "list_epsilon = [100, 80, 60, 40, 20] \n",
    "for epsilon in list_epsilon:\n",
    "    execucoes_dict = exec_algo(n_execucoes, n_epocas, epsilon, execucoes_dict)"
   ]
  },
  {
   "cell_type": "code",
   "execution_count": 18,
   "metadata": {
    "ExecuteTime": {
     "end_time": "2021-12-12T21:25:46.956043Z",
     "start_time": "2021-12-12T21:25:46.942024Z"
    }
   },
   "outputs": [
    {
     "name": "stdout",
     "output_type": "stream",
     "text": [
      "Para execução de f2 temos o seguinte resultado:\n",
      "Para a execução epsilon_100 temos média:94.75, desvio padrão:20.55 e valor máximo:165\n",
      "Para a execução epsilon_80 temos média:68.63, desvio padrão:31.61 e valor máximo:158\n",
      "Para a execução epsilon_60 temos média:101.04, desvio padrão:30.45 e valor máximo:172\n",
      "Para a execução epsilon_40 temos média:101.41, desvio padrão:24.92 e valor máximo:161\n",
      "Para a execução epsilon_20 temos média:147.0, desvio padrão:0.0 e valor máximo:147\n"
     ]
    }
   ],
   "source": [
    "print(\"Para execução de f2 temos o seguinte resultado:\")\n",
    "for i in execucoes_dict.keys():\n",
    "    media = np.mean(execucoes_dict[i])\n",
    "    std = np.std(execucoes_dict[i])\n",
    "    max_value = np.max(execucoes_dict[i])\n",
    "    print(f\"Para a execução {i} temos média:{round(media, 2)}, desvio padrão:{round(std, 2)} e valor máximo:{max_value}\")"
   ]
  },
  {
   "cell_type": "code",
   "execution_count": 19,
   "metadata": {
    "ExecuteTime": {
     "end_time": "2021-12-12T21:25:47.744023Z",
     "start_time": "2021-12-12T21:25:46.991027Z"
    },
    "scrolled": false
   },
   "outputs": [
    {
     "data": {
      "image/png": "[encoded data removed]",
      "text/plain": [
       "<Figure size 640x480 with 1 Axes>"
      ]
     },
     "metadata": {},
     "output_type": "display_data"
    }
   ],
   "source": [
    "import matplotlib.pyplot as plt\n",
    "\n",
    "plt.figure()\n",
    "plt.plot(execucoes_dict['epsilon_100'], label='∈=100')\n",
    "plt.plot(execucoes_dict['epsilon_80'], label='∈=80')\n",
    "plt.plot(execucoes_dict['epsilon_60'], label='∈=60')\n",
    "plt.plot(execucoes_dict['epsilon_40'], label='∈=40')\n",
    "plt.plot(execucoes_dict['epsilon_20'], label='∈=20')\n",
    "\n",
    "plt.title(\"Execução do algoritmo do ∈-restrito\")\n",
    "plt.ylabel(\"Penalidade\")\n",
    "plt.legend()\n",
    "plt.show()"
   ]
  },
  {
   "cell_type": "code",
   "execution_count": 20,
   "metadata": {
    "ExecuteTime": {
     "end_time": "2021-12-12T21:25:48.138026Z",
     "start_time": "2021-12-12T21:25:47.792027Z"
    }
   },
   "outputs": [
    {
     "data": {
      "image/png": "[encoded data removed]",
      "text/plain": [
       "<Figure size 640x480 with 1 Axes>"
      ]
     },
     "metadata": {},
     "output_type": "display_data"
    }
   ],
   "source": [
    "import matplotlib.pyplot as plt\n",
    "\n",
    "plt.scatter(range(0,101), execucoes_dict['epsilon_100'], label='Execução 1')\n",
    "plt.scatter(range(0,101), execucoes_dict['epsilon_80'], label='Execução 2')\n",
    "plt.scatter(range(0,101), execucoes_dict['epsilon_60'], label='Execução 3')\n",
    "plt.scatter(range(0,101), execucoes_dict['epsilon_40'], label='Execução 4')\n",
    "plt.scatter(range(0,101), execucoes_dict['epsilon_20'], label='Execução 5')\n",
    "\n",
    "plt.title(\"Tempo de execução das tarefas com F1 de otimização\")\n",
    "plt.ylabel(\"Penalidade final (f2)\")\n",
    "plt.ylabel(\"Tempo máximo final (f1)\")\n",
    "plt.legend()\n",
    "plt.show()"
   ]
  },
  {
   "cell_type": "code",
   "execution_count": null,
   "metadata": {},
   "outputs": [],
   "source": []
  },
  {
   "cell_type": "code",
   "execution_count": null,
   "metadata": {},
   "outputs": [],
   "source": []
  }
 ],
 "metadata": {
  "colab": {
   "collapsed_sections": [],
   "name": "main.ipynb",
   "provenance": []
  },
  "kernelspec": {
   "display_name": "Python 3",
   "language": "python",
   "name": "python3"
  },
  "language_info": {
   "codemirror_mode": {
    "name": "ipython",
    "version": 3
   },
   "file_extension": ".py",
   "mimetype": "text/x-python",
   "name": "python",
   "nbconvert_exporter": "python",
   "pygments_lexer": "ipython3",
   "version": "3.8.11"
  },
  "latex_envs": {
   "LaTeX_envs_menu_present": true,
   "autoclose": false,
   "autocomplete": true,
   "bibliofile": "biblio.bib",
   "cite_by": "apalike",
   "current_citInitial": 1,
   "eqLabelWithNumbers": true,
   "eqNumInitial": 1,
   "hotkeys": {
    "equation": "Ctrl-E",
    "itemize": "Ctrl-I"
   },
   "labels_anchors": false,
   "latex_user_defs": false,
   "report_style_numbering": false,
   "user_envs_cfg": false
  },
  "toc": {
   "base_numbering": 1,
   "nav_menu": {},
   "number_sections": true,
   "sideBar": true,
   "skip_h1_title": false,
   "title_cell": "Table of Contents",
   "title_sidebar": "Contents",
   "toc_cell": false,
   "toc_position": {},
   "toc_section_display": true,
   "toc_window_display": false
  },
  "varInspector": {
   "cols": {
    "lenName": 16,
    "lenType": 16,
    "lenVar": 40
   },
   "kernels_config": {
    "python": {
     "delete_cmd_postfix": "",
     "delete_cmd_prefix": "del ",
     "library": "var_list.py",
     "varRefreshCmd": "print(var_dic_list())"
    },
    "r": {
     "delete_cmd_postfix": ") ",
     "delete_cmd_prefix": "rm(",
     "library": "var_list.r",
     "varRefreshCmd": "cat(var_dic_list()) "
    }
   },
   "types_to_exclude": [
    "module",
    "function",
    "builtin_function_or_method",
    "instance",
    "_Feature"
   ],
   "window_display": false
  }
 },
 "nbformat": 4,
 "nbformat_minor": 1
}

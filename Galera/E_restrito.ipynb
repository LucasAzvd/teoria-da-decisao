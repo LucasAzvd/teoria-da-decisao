{
 "cells": [
  {
   "cell_type": "code",
   "execution_count": null,
   "metadata": {
    "id": "-L12X30Qtx_D"
   },
   "outputs": [],
   "source": [
    "#importa as bibliotecas necessárias\n",
    "import pandas as pd\n",
    "import numpy as np\n",
    "import random\n",
    "import math\n",
    "import matplotlib.pyplot as plt\n",
    "import time\n",
    "import statistics as st"
   ]
  },
  {
   "cell_type": "code",
   "execution_count": null,
   "metadata": {
    "id": "NDnbzElCtx_K"
   },
   "outputs": [],
   "source": [
    "#carrega dados\n",
    "num_agentes = int(np.genfromtxt('m.csv', delimiter=\",\"))\n",
    "num_tarefas = int(np.genfromtxt('n.csv', delimiter=\",\"))\n",
    "mat_recurso_agente = np.genfromtxt('a.csv', delimiter=',')\n",
    "mat_custo_tarefa = np.genfromtxt('c.csv', delimiter=',')\n",
    "vet_capacidade = np.genfromtxt('b.csv', delimiter=',')"
   ]
  },
  {
   "cell_type": "markdown",
   "metadata": {
    "id": "s2HhvLdo_jKi"
   },
   "source": []
  },
  {
   "cell_type": "code",
   "execution_count": null,
   "metadata": {
    "id": "53EVM2yo_kMx"
   },
   "outputs": [],
   "source": []
  },
  {
   "cell_type": "code",
   "execution_count": null,
   "metadata": {
    "id": "sMkbvRtitx_f"
   },
   "outputs": [],
   "source": [
    "#restrição de capacidade dos agentes\n",
    "#return 1 -> restrição quebrada\n",
    "def restricao_capacidade(num_agentes, num_tarefas, mat_recurso_agente, vet_capacidade, mat_solucao):\n",
    "    agente = 0\n",
    "    quebra_total = 0\n",
    "\n",
    "    while (agente < num_agentes):\n",
    "      esforco = 0\n",
    "      tarefa = 0\n",
    "      while (tarefa < num_tarefas):\n",
    "          esforco = esforco + mat_solucao[agente,tarefa]*mat_recurso_agente[agente,tarefa]\n",
    "          tarefa += 1\n",
    "      if (esforco > vet_capacidade[agente]):\n",
    "          quebra_total = quebra_total + (esforco - vet_capacidade[agente])\n",
    "\n",
    "      agente += 1\n",
    "    return quebra_total"
   ]
  },
  {
   "cell_type": "code",
   "execution_count": null,
   "metadata": {
    "id": "VPobjVhgtx_O"
   },
   "outputs": [],
   "source": [
    "#função objetivo fc()\n",
    "def fobjc(num_agentes, num_tarefas, mat_recurso_agente, mat_custo_tarefa, vet_capacidade, mat_solucao, epsilon):\n",
    "    custo = np.sum(mat_solucao * mat_custo_tarefa)\n",
    "    custo = custo + restricao_capacidade(num_agentes, num_tarefas, mat_recurso_agente, vet_capacidade, mat_solucao) * 10\n",
    "    \n",
    "    restricao_fe = fobje(num_agentes, num_tarefas, mat_recurso_agente, mat_custo_tarefa, vet_capacidade, mat_solucao)\n",
    "\n",
    "    if (restricao_fe > epsilon):\n",
    "        custo = custo + (restricao_fe - epsilon) * 10\n",
    "    return custo"
   ]
  },
  {
   "cell_type": "code",
   "execution_count": null,
   "metadata": {
    "id": "GpOn5XB7k6UM"
   },
   "outputs": [],
   "source": [
    "#função objetivo fe()\n",
    "def fobje(num_agentes, num_tarefas, mat_recurso_agente, mat_custo_tarefa, vet_capacidade, mat_solucao):\n",
    "    maior_esforco = 0\n",
    "    menor_esforco = 10000\n",
    "    agente = 0\n",
    "    \n",
    "    while (agente < num_agentes):\n",
    "      esforco = 0\n",
    "      tarefa = 0\n",
    "      while (tarefa < num_tarefas ):\n",
    "        esforco = esforco + mat_solucao[agente,tarefa]*mat_recurso_agente[agente,tarefa]\n",
    "        tarefa += 1\n",
    "      if (esforco > maior_esforco):\n",
    "        maior_esforco = esforco.copy()\n",
    "      if (esforco < menor_esforco):\n",
    "        menor_esforco = esforco.copy()\n",
    "      agente += 1\n",
    "    \n",
    "    diferenca = maior_esforco - menor_esforco\n",
    "\n",
    "    diferenca = diferenca + restricao_capacidade(num_agentes, num_tarefas, mat_recurso_agente, vet_capacidade, mat_solucao) * 3\n",
    "\n",
    "    return diferenca"
   ]
  },
  {
   "cell_type": "code",
   "execution_count": null,
   "metadata": {
    "id": "wjJQxjQDtx_X"
   },
   "outputs": [],
   "source": [
    "#gera uma solucação inicial factível para o problema\n",
    "def solucao_inicial(num_agentes, num_tarefas, mat_recurso_agente, mat_custo_tarefa, vet_capacidade):\n",
    "    mat_solucao_inicial = np.zeros((num_agentes, num_tarefas), int)\n",
    "    vet_tarefa_concluida = np.zeros(num_tarefas)\n",
    "    agente = 0\n",
    "    while (agente < num_agentes):\n",
    "        esforco = 0\n",
    "        tarefa = 0\n",
    "        while (tarefa < num_tarefas):\n",
    "            esforco = esforco + mat_recurso_agente[agente,tarefa]\n",
    "            if (vet_tarefa_concluida[tarefa] == 0 and esforco <= vet_capacidade[agente]):\n",
    "                vet_tarefa_concluida[tarefa] = 1\n",
    "                mat_solucao_inicial[agente][tarefa] = 1\n",
    "            else:\n",
    "                esforco = esforco - mat_recurso_agente[agente,tarefa]\n",
    "            tarefa+=1\n",
    "        agente+=1\n",
    "    \n",
    "    return mat_solucao_inicial"
   ]
  },
  {
   "cell_type": "code",
   "execution_count": null,
   "metadata": {
    "id": "yp8isXs2tx_l"
   },
   "outputs": [],
   "source": [
    "#define as cinco estruturas de vizinhança\n",
    "def vizinhanca(num_agentes, num_tarefas, mat_solucao, vizinho, mat_recurso_agente):\n",
    "\n",
    "    #Vizinhança Task Move\n",
    "    if (vizinho == 1):\n",
    "        tarefa = random.randint(0, num_tarefas-1)\n",
    "        for i in range(num_agentes):\n",
    "          if mat_solucao[i,tarefa] == 1:\n",
    "            pos = i\n",
    "            break\n",
    "        agente = random.choice([lista for lista in range(num_agentes) if lista != pos])\n",
    "        mat_solucao[:,tarefa] = 0\n",
    "        mat_solucao[agente,tarefa] = 1\n",
    "\n",
    "    #Vizinhança Swap\n",
    "    elif (vizinho == 2):\n",
    "        tarefa1 = random.randint(0, num_tarefas-1)\n",
    "        tarefa2 = 0\n",
    "        for i in range(num_agentes):\n",
    "          if mat_solucao[i,tarefa1] == 1:\n",
    "            agente1 = i\n",
    "            break\n",
    "        agente2 = random.choice([lista for lista in range(num_agentes) if lista != agente1])\n",
    "        tarefa_shuffle = list(range(num_tarefas))\n",
    "        random.shuffle(tarefa_shuffle)\n",
    "        for i in tarefa_shuffle:\n",
    "          if mat_solucao[agente2,i] == 1:\n",
    "            tarefa2 = i\n",
    "            break\n",
    "        mat_solucao[:,tarefa1] = 0\n",
    "        mat_solucao[:,tarefa2] = 0\n",
    "        mat_solucao[agente2,tarefa1] = 1\n",
    "        mat_solucao[agente1,tarefa2] = 1\n",
    "              \n",
    "    #seleciona aleatoriamente duas tarefas e troca seus agentes\n",
    "    elif (vizinho == 3):\n",
    "        tarefa1 = random.randint(0, num_tarefas-1)\n",
    "        tarefa2 = random.randint(0, num_tarefas-1)\n",
    "        aux = np.copy(mat_solucao[:, tarefa1])\n",
    "        mat_solucao[:,tarefa1] = np.copy(mat_solucao[:, tarefa2])\n",
    "        mat_solucao[:,tarefa2] = np.copy(aux)\n",
    "      \n",
    "    #troca todas as colunas com a coluna a sua direita\n",
    "    elif (vizinho == 4): \n",
    "        coluna = 0\n",
    "        while (coluna < num_tarefas - 1):\n",
    "            linha = 0\n",
    "            while (linha < num_agentes):\n",
    "                aux = np.copy(mat_solucao[linha,coluna])\n",
    "                mat_solucao[linha,coluna] = np.copy(mat_solucao[linha,coluna+1])\n",
    "                mat_solucao[linha,coluna+1] = np.copy(aux)\n",
    "                linha+=1\n",
    "            coluna+=2           \n",
    "\n",
    "    #seleciona aleatoriamente duas linhas e as troca \n",
    "    elif (vizinho == 5):\n",
    "        agente1 = random.randint(0, num_agentes-1)\n",
    "        agente2 = random.randint(0, num_agentes-1)\n",
    "        aux = np.copy(mat_solucao[agente1, :])\n",
    "        mat_solucao[agente1,:] = np.copy(mat_solucao[agente2, :])\n",
    "        mat_solucao[agente2,:] = np.copy(aux)\n",
    "    \n",
    "    return mat_solucao"
   ]
  },
  {
   "cell_type": "code",
   "execution_count": null,
   "metadata": {
    "id": "_7wi1hGQtx_w"
   },
   "outputs": [],
   "source": [
    "def SA(num_agentes, num_tarefas, mat_recurso_agente, mat_custo_tarefa, vet_capacidade, func, epsilon = 0):\n",
    "    vizinho = 1\n",
    "    #temperatura inicial\n",
    "    tk = 100\n",
    "    #contador de estágios estagnados\n",
    "    estagios_estagnados = 0\n",
    "\n",
    "    #contador de avaliações da função f()\n",
    "    nfe = 0\n",
    "    \n",
    "    #encontrando a solução inicial e a definindo como melhor solução\n",
    "    mat_solucao_inicial = solucao_inicial(num_agentes, num_tarefas, mat_recurso_agente, mat_custo_tarefa, vet_capacidade).copy()\n",
    "    mat_solucao_atual = np.copy(mat_solucao_inicial)\n",
    "    mat_melhor_solucao = np.copy(mat_solucao_inicial)\n",
    "\n",
    "    if (func == 'c'):\n",
    "        custo_atual = fobjc(num_agentes, num_tarefas, mat_recurso_agente, mat_custo_tarefa, vet_capacidade, mat_melhor_solucao, epsilon).copy()\n",
    "    elif (func == 'e'):\n",
    "        custo_atual = fobje(num_agentes, num_tarefas, mat_recurso_agente, mat_custo_tarefa, vet_capacidade, mat_solucao_inicial).copy()       \n",
    "        \n",
    "    melhor_custo = custo_atual.copy()\n",
    "    vet_custos = []\n",
    "    vet_custos.append(custo_atual)\n",
    "\n",
    "    vet_factivel = []\n",
    "    vet_factivel.append(custo_atual) \n",
    "\n",
    "    while (estagios_estagnados <= 10 and nfe < 10000):\n",
    "\n",
    "        num_aceites = 0\n",
    "        num_tentativas = 0\n",
    "        na = 1\n",
    "\n",
    "        fevalin = melhor_custo.copy()\n",
    "\n",
    "\n",
    "        while (num_aceites < 12*num_tarefas and num_tentativas < 100*num_tarefas):\n",
    "\n",
    "            if (vizinho > 5):\n",
    "                vizinho = 1\n",
    "            mat_solucao_prox = vizinhanca(num_agentes, num_tarefas, mat_solucao_atual, vizinho, mat_recurso_agente)\n",
    "\n",
    "            if (func == 'c'):\n",
    "                custo_prox = fobjc(num_agentes, num_tarefas, mat_recurso_agente, mat_custo_tarefa, vet_capacidade, mat_solucao_prox, epsilon)\n",
    "            elif (func == 'e'):\n",
    "                custo_prox = fobje(num_agentes, num_tarefas, mat_recurso_agente, mat_custo_tarefa, vet_capacidade, mat_solucao_prox)\n",
    "\n",
    "            if (restricao_capacidade(num_agentes, num_tarefas, mat_recurso_agente, vet_capacidade, mat_solucao_prox) == 0):\n",
    "                vet_factivel.append(custo_prox)\n",
    "\n",
    "            nfe+=1\n",
    "            \n",
    "            delta_e = custo_prox - custo_atual\n",
    "            \n",
    "            aleatorio = random.uniform(0,1)\n",
    "\n",
    "            if (delta_e <= 0 or (aleatorio <= math.exp(-delta_e/tk))):\n",
    "\n",
    "                mat_solucao_atual = np.copy(mat_solucao_prox)\n",
    "\n",
    "                custo_atual = custo_prox.copy()\n",
    "\n",
    "                num_aceites+=1\n",
    "                \n",
    "                if (custo_atual < melhor_custo and restricao_capacidade(num_agentes, num_tarefas, mat_recurso_agente, vet_capacidade, mat_solucao_atual) == 0):\n",
    "                    vizinho = 1\n",
    "                    mat_melhor_solucao = np.copy(mat_solucao_atual)\n",
    "                    melhor_custo = custo_atual.copy()\n",
    "                else:\n",
    "                    vizinho += 1\n",
    "            else:\n",
    "                vizinho += 1\n",
    "            \n",
    "            num_tentativas+=1\n",
    "\n",
    "            #armazena o custo corrente\n",
    "            vet_custos.append(custo_atual)\n",
    "            \n",
    "        #atualiza a temperatura\n",
    "        tk = 0.5*tk\n",
    "        if (tk < 20):\n",
    "          tk = 100\n",
    "        \n",
    "        #avalia critério de estagnação\n",
    "        if (melhor_custo < fevalin):\n",
    "            estagios_estagnados = 0\n",
    "        else:\n",
    "            estagios_estagnados += 1\n",
    "        \n",
    "    if (func == 'c'):\n",
    "        return mat_melhor_solucao, melhor_custo, vet_custos, vet_factivel\n",
    "\n",
    "    elif (func == 'e'):\n",
    "        epsilon = st.mean(vet_custos)\n",
    "        return epsilon"
   ]
  },
  {
   "cell_type": "code",
   "execution_count": null,
   "metadata": {
    "id": "RlZ0q-ELgYCO"
   },
   "outputs": [],
   "source": [
    "def epsilon_restrito(num_agentes, num_tarefas, mat_recurso_agente, mat_custo_tarefa, vet_capacidade):\n",
    "    func = 'e'\n",
    "    epsilon = SA(num_agentes, num_tarefas, mat_recurso_agente, mat_custo_tarefa, vet_capacidade, func)\n",
    "    vetor_epsilon = []\n",
    "    vetor_epsilon.append(epsilon)\n",
    "    while (len(vetor_epsilon) < 5):\n",
    "        epsilon = epsilon * 0.9\n",
    "        vetor_epsilon.append(epsilon)\n",
    "    \n",
    "    func = 'c'\n",
    "    i = 0\n",
    "\n",
    "    factiveis = []\n",
    "    while (i < 5):\n",
    "        epsilon = vetor_epsilon[i]\n",
    "        mat_melhor_solucao, melhor_custo, vet_custos, vet_factivel = SA(num_agentes, num_tarefas, mat_recurso_agente, mat_custo_tarefa, vet_capacidade, func, epsilon)\n",
    "        factiveis.append(vet_factivel)\n",
    "        i+=1\n",
    "    \n",
    "    vet_pareto_otima = []\n",
    "    for sublist in factiveis:\n",
    "        for val in sublist:\n",
    "            vet_pareto_otima.append(val)\n",
    "    \n",
    "    tam_custos = len(vet_custos)\n",
    "    tam_pareto = len(vet_pareto_otima)\n",
    "    x = np.linspace(0, tam_custos, tam_pareto) \n",
    "    \n",
    "    plt.plot(vet_custos)\n",
    "    plt.plot(x, vet_pareto_otima)\n",
    "    plt.ylabel('Custo')\n",
    "    plt.xlabel('Iteração')\n",
    "    plt.show()\n",
    "\n",
    "    return vet_custos"
   ]
  },
  {
   "cell_type": "code",
   "execution_count": null,
   "metadata": {
    "colab": {
     "base_uri": "https://localhost:8080/",
     "height": 381
    },
    "id": "XKPfCl4ugtMK",
    "outputId": "5815cb3a-572b-45b8-d0fb-abbb2bd7ee94"
   },
   "outputs": [
    {
     "data": {
      "image/png": "[encoded data removed]",
      "text/plain": [
       "<Figure size 432x288 with 1 Axes>"
      ]
     },
     "metadata": {
      "needs_background": "light",
      "tags": []
     },
     "output_type": "display_data"
    },
    {
     "name": "stdout",
     "output_type": "stream",
     "text": [
      "Melhor custo: 714.0\n",
      "Menor custo: 714.0\n",
      "Maior custo: 1396.1324098502496\n",
      "Média: 822.869063062905\n",
      "Desvio padrão: 78.25729703645382\n",
      "Tempo de execução: 94.1515097618103\n"
     ]
    }
   ],
   "source": [
    "inicio = time.time()\n",
    "vet_custos = epsilon_restrito(num_agentes, num_tarefas, mat_recurso_agente, mat_custo_tarefa, vet_capacidade)\n",
    "fim = time.time()\n",
    "\n",
    "print('Melhor custo:', melhor_custo)\n",
    "print('Menor custo:', min(vet_custos))\n",
    "print('Maior custo:', max(vet_custos))\n",
    "print('Média:', st.mean(vet_custos))\n",
    "print('Desvio padrão:', st.pstdev(vet_custos))\n",
    "print('Tempo de execução:', fim - inicio)"
   ]
  },
  {
   "cell_type": "code",
   "execution_count": null,
   "metadata": {
    "id": "lFv6Fcp5wG2t"
   },
   "outputs": [],
   "source": []
  }
 ],
 "metadata": {
  "colab": {
   "collapsed_sections": [],
   "name": "E-restrito.ipynb",
   "provenance": []
  },
  "kernelspec": {
   "display_name": "Python 3",
   "language": "python",
   "name": "python3"
  },
  "language_info": {
   "codemirror_mode": {
    "name": "ipython",
    "version": 3
   },
   "file_extension": ".py",
   "mimetype": "text/x-python",
   "name": "python",
   "nbconvert_exporter": "python",
   "pygments_lexer": "ipython3",
   "version": "3.8.11"
  },
  "latex_envs": {
   "LaTeX_envs_menu_present": true,
   "autoclose": false,
   "autocomplete": true,
   "bibliofile": "biblio.bib",
   "cite_by": "apalike",
   "current_citInitial": 1,
   "eqLabelWithNumbers": true,
   "eqNumInitial": 1,
   "hotkeys": {
    "equation": "Ctrl-E",
    "itemize": "Ctrl-I"
   },
   "labels_anchors": false,
   "latex_user_defs": false,
   "report_style_numbering": false,
   "user_envs_cfg": false
  },
  "toc": {
   "base_numbering": 1,
   "nav_menu": {},
   "number_sections": true,
   "sideBar": true,
   "skip_h1_title": false,
   "title_cell": "Table of Contents",
   "title_sidebar": "Contents",
   "toc_cell": false,
   "toc_position": {},
   "toc_section_display": true,
   "toc_window_display": false
  },
  "varInspector": {
   "cols": {
    "lenName": 16,
    "lenType": 16,
    "lenVar": 40
   },
   "kernels_config": {
    "python": {
     "delete_cmd_postfix": "",
     "delete_cmd_prefix": "del ",
     "library": "var_list.py",
     "varRefreshCmd": "print(var_dic_list())"
    },
    "r": {
     "delete_cmd_postfix": ") ",
     "delete_cmd_prefix": "rm(",
     "library": "var_list.r",
     "varRefreshCmd": "cat(var_dic_list()) "
    }
   },
   "types_to_exclude": [
    "module",
    "function",
    "builtin_function_or_method",
    "instance",
    "_Feature"
   ],
   "window_display": false
  }
 },
 "nbformat": 4,
 "nbformat_minor": 1
}

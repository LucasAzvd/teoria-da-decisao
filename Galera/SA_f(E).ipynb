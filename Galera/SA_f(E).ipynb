{
 "cells": [
  {
   "cell_type": "code",
   "execution_count": 1,
   "metadata": {
    "colab": {},
    "colab_type": "code",
    "id": "-L12X30Qtx_D"
   },
   "outputs": [],
   "source": [
    "#importa as bibliotecas necessárias\n",
    "import pandas as pd\n",
    "import numpy as np\n",
    "import random\n",
    "import math\n",
    "import matplotlib.pyplot as plt\n",
    "import time\n",
    "import statistics as st"
   ]
  },
  {
   "cell_type": "code",
   "execution_count": 2,
   "metadata": {
    "colab": {},
    "colab_type": "code",
    "id": "NDnbzElCtx_K"
   },
   "outputs": [],
   "source": [
    "#carrega dados\n",
    "num_agentes = int(np.genfromtxt('m.csv', delimiter=\",\"))\n",
    "num_tarefas = int(np.genfromtxt('n.csv', delimiter=\",\"))\n",
    "mat_recurso_agente = np.genfromtxt('a.csv', delimiter=',')\n",
    "mat_custo_tarefa = np.genfromtxt('c.csv', delimiter=',')\n",
    "vet_capacidade = np.genfromtxt('b.csv', delimiter=',')"
   ]
  },
  {
   "cell_type": "code",
   "execution_count": 3,
   "metadata": {
    "colab": {},
    "colab_type": "code",
    "id": "sMkbvRtitx_f"
   },
   "outputs": [],
   "source": [
    "#restrição de capacidade dos agentes\n",
    "#return 1 -> restrição quebrada\n",
    "def restricao_capacidade(num_agentes, num_tarefas, mat_recurso_agente, vet_capacidade, mat_solucao):\n",
    "    agente = 0\n",
    "\n",
    "    while (agente < num_agentes):\n",
    "      esforco = 0\n",
    "      tarefa = 0\n",
    "      while (tarefa < num_tarefas ):\n",
    "        esforco = esforco + mat_solucao[agente,tarefa]*mat_recurso_agente[agente,tarefa]\n",
    "        tarefa += 1\n",
    "\n",
    "      if (esforco > vet_capacidade[agente]):\n",
    "        return 1\n",
    "\n",
    "      agente += 1\n",
    "\n",
    "    return 0"
   ]
  },
  {
   "cell_type": "code",
   "execution_count": 4,
   "metadata": {
    "colab": {},
    "colab_type": "code",
    "id": "umzjl57etx_b"
   },
   "outputs": [],
   "source": [
    "#restrição de cada tarefa ser atribuída a um único agente\n",
    "#flag_tarefa = 1 -> restrição quebrada\n",
    "def restricao_tarefa(num_agentes, num_tarefas, mat_solucao):\n",
    "    flag_tarefa = 0\n",
    "    i = 0\n",
    "    j = 0\n",
    "    while (j < num_tarefas and flag_tarefa == 0):\n",
    "        soma = 0\n",
    "        while (i < num_agentes and flag_tarefa == 0):\n",
    "            soma = soma + mat_solucao[i,j]\n",
    "            if (soma > 1):\n",
    "                flag_tarefa = 1\n",
    "            i+=1\n",
    "        j+=1\n",
    "    return flag_tarefa"
   ]
  },
  {
   "cell_type": "code",
   "execution_count": 5,
   "metadata": {
    "colab": {},
    "colab_type": "code",
    "id": "VPobjVhgtx_O"
   },
   "outputs": [],
   "source": [
    "#função objetivo fe()\n",
    "def fobje(num_agentes, num_tarefas, mat_recurso_agente, mat_custo_tarefa, vet_capacidade, mat_solucao):\n",
    "    maior_esforco = 0\n",
    "    menor_esforco = 10000\n",
    "    agente = 0\n",
    "    \n",
    "    while (agente < num_agentes):\n",
    "      esforco = 0\n",
    "      tarefa = 0\n",
    "      while (tarefa < num_tarefas ):\n",
    "        esforco = esforco + mat_solucao[agente,tarefa]*mat_recurso_agente[agente,tarefa]\n",
    "        tarefa += 1\n",
    "      if (esforco > maior_esforco):\n",
    "        maior_esforco = esforco.copy()\n",
    "      elif (esforco < menor_esforco):\n",
    "        menor_esforco = esforco.copy()\n",
    "      agente += 1\n",
    "    \n",
    "    diferenca = maior_esforco - menor_esforco\n",
    "\n",
    "    if (restricao_tarefa(num_agentes, num_tarefas, mat_solucao) == 1):\n",
    "        diferenca = diferenca + 200\n",
    "    if (restricao_capacidade(num_agentes, num_tarefas, mat_recurso_agente, vet_capacidade, mat_solucao) == 1):\n",
    "        diferenca = diferenca + 200\n",
    "\n",
    "    return diferenca"
   ]
  },
  {
   "cell_type": "code",
   "execution_count": 6,
   "metadata": {
    "colab": {},
    "colab_type": "code",
    "id": "wjJQxjQDtx_X"
   },
   "outputs": [],
   "source": [
    "#gera uma solucação inicial factível para o problema\n",
    "def solucao_inicial(num_agentes, num_tarefas, mat_recurso_agente, mat_custo_tarefa, vet_capacidade):\n",
    "    mat_solucao_inicial = np.zeros((num_agentes, num_tarefas), int)\n",
    "    vet_tarefa_concluida = np.zeros(50)\n",
    "    agente = 0\n",
    "    while (agente < num_agentes):\n",
    "        esforco = 0\n",
    "        tarefa = 0\n",
    "        while (tarefa < num_tarefas):\n",
    "            esforco = esforco + mat_recurso_agente[agente,tarefa]\n",
    "            if (vet_tarefa_concluida[tarefa] == 0 and esforco <= vet_capacidade[agente]):\n",
    "                vet_tarefa_concluida[tarefa] = 1\n",
    "                mat_solucao_inicial[agente][tarefa] = 1\n",
    "            else:\n",
    "                esforco = esforco - mat_recurso_agente[agente,tarefa]\n",
    "            tarefa+=1\n",
    "        agente+=1\n",
    "    \n",
    "    return mat_solucao_inicial"
   ]
  },
  {
   "cell_type": "code",
   "execution_count": 7,
   "metadata": {
    "colab": {},
    "colab_type": "code",
    "id": "yp8isXs2tx_l"
   },
   "outputs": [],
   "source": [
    "#define as cinco estruturas de vizinhança\n",
    "def vizinhanca(num_agentes, num_tarefas, mat_solucao, vizinho, estagnacao, mat_recurso_agente):\n",
    "    #seleciona aleatoriamente uma coluna e troca com a da direita\n",
    "    if (vizinho == 1): \n",
    "        tarefa = random.randint(0, num_tarefas-1)\n",
    "        agente = random.randint(0, num_agentes-1)\n",
    "        mat_solucao[:,tarefa] = 0\n",
    "        mat_solucao[agente,tarefa] = 1\n",
    "\n",
    "    #seleciona uma tarefa aleatoria e a atribui a um agente aleatorio\n",
    "    elif (vizinho == 2):    \n",
    "        coluna = random.randint(0,num_tarefas-2)\n",
    "\n",
    "        aux = np.copy(mat_solucao[:,coluna+1])\n",
    "        mat_solucao[:,coluna+1] = np.copy(mat_solucao[:,coluna])\n",
    "        mat_solucao[:,coluna] = np.copy(aux)  \n",
    "                  \n",
    "    #seleciona aleatoriamente duas tarefas e troca seus agentes\n",
    "    elif (vizinho == 3):\n",
    "        tarefa1 = random.randint(0, num_tarefas-1)\n",
    "        tarefa2 = random.randint(0, num_tarefas-1)\n",
    "        aux = np.copy(mat_solucao[:, tarefa1])\n",
    "        mat_solucao[:,tarefa1] = np.copy(mat_solucao[:, tarefa2])\n",
    "        mat_solucao[:,tarefa2] = np.copy(aux)\n",
    "      \n",
    "    #troca todas as colunas com a coluna a sua direita\n",
    "    elif (vizinho == 4):\n",
    "        coluna = 0\n",
    "        while (coluna < num_tarefas):\n",
    "            linha = 0\n",
    "            while (linha < num_agentes):\n",
    "                aux = np.copy(mat_solucao[linha,coluna])\n",
    "                mat_solucao[linha,coluna] = np.copy(mat_solucao[linha,coluna+1])\n",
    "                mat_solucao[linha,coluna+1] = np.copy(aux)\n",
    "                linha+=1\n",
    "            coluna+=2           \n",
    "\n",
    "    #seleciona aleatoriamente duas linhas e as troca \n",
    "    elif (vizinho == 5):\n",
    "        agente1 = random.randint(0, num_agentes-1)\n",
    "        agente2 = random.randint(0, num_agentes-1)\n",
    "        aux = np.copy(mat_solucao[agente1, :])\n",
    "        mat_solucao[agente1,:] = np.copy(mat_solucao[agente2, :])\n",
    "        mat_solucao[agente2,:] = np.copy(aux)\n",
    "    \n",
    "    return mat_solucao"
   ]
  },
  {
   "cell_type": "code",
   "execution_count": 10,
   "metadata": {
    "colab": {},
    "colab_type": "code",
    "id": "_7wi1hGQtx_w"
   },
   "outputs": [],
   "source": [
    "def SA(num_agentes, num_tarefas, mat_recurso_agente, mat_custo_tarefa, vet_capacidade):\n",
    "    #temperatura inicial\n",
    "    tk = 100\n",
    "    #contador de estágios estagnados\n",
    "    estagios_estagnados = 0\n",
    "\n",
    "    #contador de avaliações da função f()\n",
    "    nfe = 0\n",
    "    \n",
    "    #encontrando a solução inicial (sem considerar as restrições de capacidade) e a definindo como melhor solução\n",
    "    mat_solucao_inicial = np.copy(solucao_inicial(num_agentes, num_tarefas, mat_recurso_agente, mat_custo_tarefa, vet_capacidade))\n",
    "\n",
    "    diferenca_atual = fobje(num_agentes, num_tarefas, mat_recurso_agente, mat_custo_tarefa, vet_capacidade, mat_solucao_inicial).copy()\n",
    "    mat_solucao_atual = np.copy(mat_solucao_inicial)\n",
    "    mat_melhor_solucao = np.copy(mat_solucao_inicial)\n",
    "\n",
    "    menor_diferenca = diferenca_atual.copy()\n",
    "    \n",
    "    vet_diferencas = []\n",
    "    vet_diferencas.append(diferenca_atual)\n",
    "        \n",
    "    while (estagios_estagnados <= 10 and nfe < 10000):\n",
    "\n",
    "        num_aceites = 0\n",
    "        num_tentativas = 0\n",
    "\n",
    "        fevalin = menor_diferenca.copy()\n",
    "\n",
    "        while (num_aceites < 12*num_tarefas and num_tentativas < 100*num_tarefas):\n",
    "\n",
    "            vizinho = random.randint(1,5)\n",
    "            mat_solucao_prox = vizinhanca(num_agentes, num_tarefas, mat_solucao_atual, vizinho, estagios_estagnados, mat_recurso_agente)\n",
    "            diferenca_prox = fobje(num_agentes, num_tarefas, mat_recurso_agente, mat_custo_tarefa, vet_capacidade, mat_solucao_prox)\n",
    "\n",
    "            nfe+=1\n",
    "            \n",
    "            delta_e = diferenca_prox - diferenca_atual\n",
    "            \n",
    "            if (delta_e <= 0 or (random.uniform(0,1) <= math.exp(-delta_e/tk))):\n",
    "\n",
    "                mat_solucao_atual = np.copy(mat_solucao_prox)\n",
    "                diferenca_atual = diferenca_prox.copy()\n",
    "\n",
    "                num_aceites+=1\n",
    "                \n",
    "                if (diferenca_atual < menor_diferenca):\n",
    "                    mat_melhor_solucao = np.copy(mat_solucao_atual)\n",
    "                    menor_diferenca = diferenca_atual.copy()\n",
    "            \n",
    "            num_tentativas+=1\n",
    "            \n",
    "            #armazena o custo corrente\n",
    "            vet_diferencas.append(diferenca_atual)\n",
    "            \n",
    "        #atualiza a temperatura\n",
    "        tk = 0.5*tk\n",
    "        if (tk < 0.1):\n",
    "            tk = 100\n",
    "        \n",
    "        #avalia critério de estagnação\n",
    "        if (menor_diferenca < fevalin):\n",
    "            estagios_estagnados = 0\n",
    "        else:\n",
    "            estagios_estagnados += 1\n",
    "        \n",
    "    plt.plot(vet_diferencas)\n",
    "    plt.ylabel('Diferença de consumo de recurso')\n",
    "    plt.xlabel('Iteração')\n",
    "    plt.show()\n",
    "    return mat_melhor_solucao, menor_diferenca, vet_diferencas"
   ]
  },
  {
   "cell_type": "code",
   "execution_count": 24,
   "metadata": {
    "colab": {
     "base_uri": "https://localhost:8080/",
     "height": 296
    },
    "colab_type": "code",
    "id": "V06V3MOZqSrL",
    "outputId": "c6e52654-39fb-4003-963c-99d5463aa212"
   },
   "outputs": [
    {
     "data": {
      "image/png": "[encoded data removed]",
      "text/plain": [
       "<Figure size 432x288 with 1 Axes>"
      ]
     },
     "metadata": {
      "needs_background": "light",
      "tags": []
     },
     "output_type": "display_data"
    },
    {
     "name": "stdout",
     "output_type": "stream",
     "text": [
      "Tempo de execução: 30.313173055648804\n"
     ]
    }
   ],
   "source": [
    "inicio = time.time()\n",
    "mat_melhor_solucao, menor_diferenca, vet_diferencas = SA(num_agentes, num_tarefas, mat_recurso_agente, mat_custo_tarefa, vet_capacidade)\n",
    "fim = time.time()\n",
    "print('Tempo de execução:', fim - inicio)"
   ]
  },
  {
   "cell_type": "code",
   "execution_count": 12,
   "metadata": {
    "colab": {
     "base_uri": "https://localhost:8080/",
     "height": 34
    },
    "colab_type": "code",
    "id": "cwp0hhWGfBRr",
    "outputId": "680e530c-05b7-48c4-801c-b33148c63191"
   },
   "outputs": [
    {
     "data": {
      "text/plain": [
       "0"
      ]
     },
     "execution_count": 12,
     "metadata": {
      "tags": []
     },
     "output_type": "execute_result"
    }
   ],
   "source": [
    "#valida se a melhor solução quebrou a restrição de capacidade do agente\n",
    "restricao_capacidade(num_agentes, num_tarefas, mat_recurso_agente, vet_capacidade, mat_melhor_solucao)"
   ]
  },
  {
   "cell_type": "code",
   "execution_count": 13,
   "metadata": {
    "colab": {
     "base_uri": "https://localhost:8080/",
     "height": 34
    },
    "colab_type": "code",
    "id": "ELmWozuVhfw0",
    "outputId": "d5a0fa50-98e9-4671-fbb3-4c0be4c91405"
   },
   "outputs": [
    {
     "data": {
      "text/plain": [
       "0"
      ]
     },
     "execution_count": 13,
     "metadata": {
      "tags": []
     },
     "output_type": "execute_result"
    }
   ],
   "source": [
    "#valida se a melhor solução quebrou a restrição de uma tarefa para um único agente\n",
    "restricao_tarefa(num_agentes, num_tarefas, mat_melhor_solucao)"
   ]
  },
  {
   "cell_type": "code",
   "execution_count": 25,
   "metadata": {
    "colab": {
     "base_uri": "https://localhost:8080/",
     "height": 102
    },
    "colab_type": "code",
    "id": "zcgVv6Kif0BB",
    "outputId": "330b1829-479d-4fd6-8d22-178a48625a2f"
   },
   "outputs": [
    {
     "name": "stdout",
     "output_type": "stream",
     "text": [
      "Melhor diferença: 36.0\n",
      "Menor diferença: 36.0\n",
      "Maior diferença: 827.0\n",
      "Média: 385.21121726579145\n",
      "Desvio padrão: 83.05918841782045\n"
     ]
    }
   ],
   "source": [
    "print('Melhor diferença:', menor_diferenca)\n",
    "print('Menor diferença:', min(vet_diferencas))\n",
    "print('Maior diferença:', max(vet_diferencas))\n",
    "print('Média:', st.mean(vet_diferencas))\n",
    "print('Desvio padrão:', st.pstdev(vet_diferencas))"
   ]
  },
  {
   "cell_type": "code",
   "execution_count": null,
   "metadata": {
    "colab": {},
    "colab_type": "code",
    "id": "0pnOJ4PsgefF"
   },
   "outputs": [],
   "source": []
  }
 ],
 "metadata": {
  "colab": {
   "collapsed_sections": [],
   "name": "SA_Função 2.ipynb",
   "provenance": []
  },
  "kernelspec": {
   "display_name": "Python 3",
   "language": "python",
   "name": "python3"
  },
  "language_info": {
   "codemirror_mode": {
    "name": "ipython",
    "version": 3
   },
   "file_extension": ".py",
   "mimetype": "text/x-python",
   "name": "python",
   "nbconvert_exporter": "python",
   "pygments_lexer": "ipython3",
   "version": "3.8.11"
  }
 },
 "nbformat": 4,
 "nbformat_minor": 1
}
